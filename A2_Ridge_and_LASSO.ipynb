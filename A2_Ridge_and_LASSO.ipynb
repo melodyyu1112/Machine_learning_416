{
  "nbformat": 4,
  "nbformat_minor": 0,
  "metadata": {
    "colab": {
      "name": "A2-Ridge-and-LASSO.ipynb",
      "version": "0.3.2",
      "provenance": [],
      "collapsed_sections": [],
      "include_colab_link": true
    },
    "language_info": {
      "codemirror_mode": {
        "name": "ipython",
        "version": 3
      },
      "file_extension": ".py",
      "mimetype": "text/x-python",
      "name": "python",
      "nbconvert_exporter": "python",
      "pygments_lexer": "ipython3",
      "version": "3.7.1"
    },
    "kernelspec": {
      "display_name": "Python 3",
      "language": "python",
      "name": "python3"
    }
  },
  "cells": [
    {
      "cell_type": "markdown",
      "metadata": {
        "id": "view-in-github",
        "colab_type": "text"
      },
      "source": [
        "<a href=\"https://colab.research.google.com/github/melodyyu1112/Machine_learning_416/blob/master/A2_Ridge_and_LASSO.ipynb\" target=\"_parent\"><img src=\"https://colab.research.google.com/assets/colab-badge.svg\" alt=\"Open In Colab\"/></a>"
      ]
    },
    {
      "cell_type": "markdown",
      "metadata": {
        "id": "88Bv06Ydr2VD",
        "colab_type": "text"
      },
      "source": [
        "# Assignment 2 - Ridge and LASSO Regression\n",
        "\n",
        "### Due: Tuesday, July 9th, 11:59 pm on Gradescope.\n",
        "\n",
        "In this assignment we'll look at the affect of using regularization on linear regression models that we train. Write code to train models that use different regularizers and different penalties and to analyze how this affects the model.\n",
        "\n",
        "\n",
        "> Copyright ©2019 Emily Fox and Hunter Schafer.  All rights reserved.  Permission is hereby granted to students registered for University of Washington CSE/STAT 416 for use solely during Summer Quarter 2019 for purposes of the course.  No other use, copying, distribution, or modification is permitted without prior written consent. Copyrights for third-party components of this work must be honored.  Instructors interested in reusing these course materials should contact the author.\n",
        "\n",
        "---"
      ]
    },
    {
      "cell_type": "code",
      "metadata": {
        "id": "fPCG1EaQskjS",
        "colab_type": "code",
        "colab": {}
      },
      "source": [
        "# This cell is necessary only if you are running on Google Colab\n",
        "\n",
        "import requests\n",
        "\n",
        "def save_file(url, file_name):\n",
        "  r = requests.get(url)\n",
        "  with open(file_name, 'wb') as f:\n",
        "    f.write(r.content)\n",
        "\n",
        "save_file('https://homes.cs.washington.edu/~hschafer/cse416/a2/home_data.csv',\n",
        "          'home_data.csv')"
      ],
      "execution_count": 0,
      "outputs": []
    },
    {
      "cell_type": "code",
      "metadata": {
        "id": "XGVD_2SKr2VE",
        "colab_type": "code",
        "colab": {}
      },
      "source": [
        "# Conventionally people rename these common imports for brevity\n",
        "import pandas as pd\n",
        "import numpy as np\n",
        "import matplotlib.pyplot as plt\n",
        "\n",
        "# Magic command to make the plots appear in-line (it's actually called a \"magic command\")\n",
        "%matplotlib inline"
      ],
      "execution_count": 0,
      "outputs": []
    },
    {
      "cell_type": "markdown",
      "metadata": {
        "id": "r6djJYVHr2VH",
        "colab_type": "text"
      },
      "source": [
        "For this assignment, we will only be using a very small subset of the data to do our analysis. This is not something you would usually do in practice, but is something we do for this assignment to simplify this complexity of this dataset. The data is pretty noisy and to get meaningful results to demonstrate the theoretical behavior, you would need to use a much more complicated set of features that would be a bit more tedious to work with."
      ]
    },
    {
      "cell_type": "code",
      "metadata": {
        "id": "s_8q7rXBr2VI",
        "colab_type": "code",
        "outputId": "8fe5b021-0222-4d6c-977e-9aa20554c51f",
        "colab": {
          "base_uri": "https://localhost:8080/",
          "height": 241
        }
      },
      "source": [
        "sales = pd.read_csv('home_data.csv') \n",
        "\n",
        "# Selects 1% of the data\n",
        "sales = sales.sample(frac=0.01, random_state=0) \n",
        "\n",
        "print(f'Number of points: {len(sales)}')\n",
        "sales.head()"
      ],
      "execution_count": 0,
      "outputs": [
        {
          "output_type": "stream",
          "text": [
            "Number of points: 216\n"
          ],
          "name": "stdout"
        },
        {
          "output_type": "execute_result",
          "data": {
            "text/html": [
              "<div>\n",
              "<style scoped>\n",
              "    .dataframe tbody tr th:only-of-type {\n",
              "        vertical-align: middle;\n",
              "    }\n",
              "\n",
              "    .dataframe tbody tr th {\n",
              "        vertical-align: top;\n",
              "    }\n",
              "\n",
              "    .dataframe thead th {\n",
              "        text-align: right;\n",
              "    }\n",
              "</style>\n",
              "<table border=\"1\" class=\"dataframe\">\n",
              "  <thead>\n",
              "    <tr style=\"text-align: right;\">\n",
              "      <th></th>\n",
              "      <th>id</th>\n",
              "      <th>date</th>\n",
              "      <th>price</th>\n",
              "      <th>bedrooms</th>\n",
              "      <th>bathrooms</th>\n",
              "      <th>sqft_living</th>\n",
              "      <th>sqft_lot</th>\n",
              "      <th>floors</th>\n",
              "      <th>waterfront</th>\n",
              "      <th>view</th>\n",
              "      <th>condition</th>\n",
              "      <th>grade</th>\n",
              "      <th>sqft_above</th>\n",
              "      <th>sqft_basement</th>\n",
              "      <th>yr_built</th>\n",
              "      <th>yr_renovated</th>\n",
              "      <th>zipcode</th>\n",
              "      <th>lat</th>\n",
              "      <th>long</th>\n",
              "      <th>sqft_living15</th>\n",
              "      <th>sqft_lot15</th>\n",
              "    </tr>\n",
              "  </thead>\n",
              "  <tbody>\n",
              "    <tr>\n",
              "      <th>17384</th>\n",
              "      <td>1453602313</td>\n",
              "      <td>20141029T000000</td>\n",
              "      <td>297000</td>\n",
              "      <td>2</td>\n",
              "      <td>1.50</td>\n",
              "      <td>1430</td>\n",
              "      <td>1650</td>\n",
              "      <td>3.0</td>\n",
              "      <td>0</td>\n",
              "      <td>0</td>\n",
              "      <td>3</td>\n",
              "      <td>7</td>\n",
              "      <td>1430</td>\n",
              "      <td>0</td>\n",
              "      <td>1999</td>\n",
              "      <td>0</td>\n",
              "      <td>98125</td>\n",
              "      <td>47.7222</td>\n",
              "      <td>-122.290</td>\n",
              "      <td>1430</td>\n",
              "      <td>1650</td>\n",
              "    </tr>\n",
              "    <tr>\n",
              "      <th>722</th>\n",
              "      <td>2225059214</td>\n",
              "      <td>20140808T000000</td>\n",
              "      <td>1578000</td>\n",
              "      <td>4</td>\n",
              "      <td>3.25</td>\n",
              "      <td>4670</td>\n",
              "      <td>51836</td>\n",
              "      <td>2.0</td>\n",
              "      <td>0</td>\n",
              "      <td>0</td>\n",
              "      <td>4</td>\n",
              "      <td>12</td>\n",
              "      <td>4670</td>\n",
              "      <td>0</td>\n",
              "      <td>1988</td>\n",
              "      <td>0</td>\n",
              "      <td>98005</td>\n",
              "      <td>47.6350</td>\n",
              "      <td>-122.164</td>\n",
              "      <td>4230</td>\n",
              "      <td>41075</td>\n",
              "    </tr>\n",
              "    <tr>\n",
              "      <th>2680</th>\n",
              "      <td>2768000270</td>\n",
              "      <td>20140625T000000</td>\n",
              "      <td>562100</td>\n",
              "      <td>2</td>\n",
              "      <td>0.75</td>\n",
              "      <td>1440</td>\n",
              "      <td>3700</td>\n",
              "      <td>1.0</td>\n",
              "      <td>0</td>\n",
              "      <td>0</td>\n",
              "      <td>3</td>\n",
              "      <td>7</td>\n",
              "      <td>1200</td>\n",
              "      <td>240</td>\n",
              "      <td>1914</td>\n",
              "      <td>0</td>\n",
              "      <td>98107</td>\n",
              "      <td>47.6707</td>\n",
              "      <td>-122.364</td>\n",
              "      <td>1440</td>\n",
              "      <td>4300</td>\n",
              "    </tr>\n",
              "    <tr>\n",
              "      <th>18754</th>\n",
              "      <td>6819100040</td>\n",
              "      <td>20140624T000000</td>\n",
              "      <td>631500</td>\n",
              "      <td>2</td>\n",
              "      <td>1.00</td>\n",
              "      <td>1130</td>\n",
              "      <td>2640</td>\n",
              "      <td>1.0</td>\n",
              "      <td>0</td>\n",
              "      <td>0</td>\n",
              "      <td>4</td>\n",
              "      <td>8</td>\n",
              "      <td>1130</td>\n",
              "      <td>0</td>\n",
              "      <td>1927</td>\n",
              "      <td>0</td>\n",
              "      <td>98109</td>\n",
              "      <td>47.6438</td>\n",
              "      <td>-122.357</td>\n",
              "      <td>1680</td>\n",
              "      <td>3200</td>\n",
              "    </tr>\n",
              "    <tr>\n",
              "      <th>14554</th>\n",
              "      <td>4027700666</td>\n",
              "      <td>20150426T000000</td>\n",
              "      <td>780000</td>\n",
              "      <td>4</td>\n",
              "      <td>2.50</td>\n",
              "      <td>3180</td>\n",
              "      <td>9603</td>\n",
              "      <td>2.0</td>\n",
              "      <td>0</td>\n",
              "      <td>2</td>\n",
              "      <td>3</td>\n",
              "      <td>9</td>\n",
              "      <td>3180</td>\n",
              "      <td>0</td>\n",
              "      <td>2002</td>\n",
              "      <td>0</td>\n",
              "      <td>98155</td>\n",
              "      <td>47.7717</td>\n",
              "      <td>-122.277</td>\n",
              "      <td>2440</td>\n",
              "      <td>15261</td>\n",
              "    </tr>\n",
              "  </tbody>\n",
              "</table>\n",
              "</div>"
            ],
            "text/plain": [
              "               id             date    price  ...     long  sqft_living15  sqft_lot15\n",
              "17384  1453602313  20141029T000000   297000  ... -122.290           1430        1650\n",
              "722    2225059214  20140808T000000  1578000  ... -122.164           4230       41075\n",
              "2680   2768000270  20140625T000000   562100  ... -122.364           1440        4300\n",
              "18754  6819100040  20140624T000000   631500  ... -122.357           1680        3200\n",
              "14554  4027700666  20150426T000000   780000  ... -122.277           2440       15261\n",
              "\n",
              "[5 rows x 21 columns]"
            ]
          },
          "metadata": {
            "tags": []
          },
          "execution_count": 3
        }
      ]
    },
    {
      "cell_type": "markdown",
      "metadata": {
        "id": "deGAboG4r2VK",
        "colab_type": "text"
      },
      "source": [
        "First, we do a bit of feature engineering by creating features that represent the squares of each feature and the square root of each feature. One benefit of using regularization is you can include more features than necessary and you don't have to be as worried about overfitting since the model is regularized."
      ]
    },
    {
      "cell_type": "code",
      "metadata": {
        "id": "AFGHc0air2VL",
        "colab_type": "code",
        "outputId": "fd2af1fc-0945-4506-c8b1-7c4518589537",
        "colab": {
          "base_uri": "https://localhost:8080/",
          "height": 224
        }
      },
      "source": [
        "from math import sqrt\n",
        "\n",
        "# All of the features of interest\n",
        "features = [\n",
        "    'bedrooms', \n",
        "    'bathrooms',\n",
        "    'sqft_living', \n",
        "    'sqft_lot', \n",
        "    'floors', \n",
        "    'waterfront', \n",
        "    'view', \n",
        "    'condition', \n",
        "    'grade',\n",
        "    'sqft_above',\n",
        "    'sqft_basement',\n",
        "    'yr_built', \n",
        "    'yr_renovated'\n",
        "]\n",
        "\n",
        "# Compute the square and sqrt of each feature\n",
        "all_features = []\n",
        "for feat in features:\n",
        "    square_feat = feat + '_square'\n",
        "    sqrt_feat = feat + '_sqrt'\n",
        "    \n",
        "    sales[square_feat] = sales[feat] ** 2\n",
        "    sales[sqrt_feat] = sales[feat].apply(sqrt)\n",
        "    \n",
        "    all_features.extend([feat, square_feat, sqrt_feat])\n",
        "    \n",
        "sales.head()"
      ],
      "execution_count": 0,
      "outputs": [
        {
          "output_type": "execute_result",
          "data": {
            "text/html": [
              "<div>\n",
              "<style scoped>\n",
              "    .dataframe tbody tr th:only-of-type {\n",
              "        vertical-align: middle;\n",
              "    }\n",
              "\n",
              "    .dataframe tbody tr th {\n",
              "        vertical-align: top;\n",
              "    }\n",
              "\n",
              "    .dataframe thead th {\n",
              "        text-align: right;\n",
              "    }\n",
              "</style>\n",
              "<table border=\"1\" class=\"dataframe\">\n",
              "  <thead>\n",
              "    <tr style=\"text-align: right;\">\n",
              "      <th></th>\n",
              "      <th>id</th>\n",
              "      <th>date</th>\n",
              "      <th>price</th>\n",
              "      <th>bedrooms</th>\n",
              "      <th>bathrooms</th>\n",
              "      <th>sqft_living</th>\n",
              "      <th>sqft_lot</th>\n",
              "      <th>floors</th>\n",
              "      <th>waterfront</th>\n",
              "      <th>view</th>\n",
              "      <th>condition</th>\n",
              "      <th>grade</th>\n",
              "      <th>sqft_above</th>\n",
              "      <th>sqft_basement</th>\n",
              "      <th>yr_built</th>\n",
              "      <th>yr_renovated</th>\n",
              "      <th>zipcode</th>\n",
              "      <th>lat</th>\n",
              "      <th>long</th>\n",
              "      <th>sqft_living15</th>\n",
              "      <th>sqft_lot15</th>\n",
              "      <th>bedrooms_square</th>\n",
              "      <th>bedrooms_sqrt</th>\n",
              "      <th>bathrooms_square</th>\n",
              "      <th>bathrooms_sqrt</th>\n",
              "      <th>sqft_living_square</th>\n",
              "      <th>sqft_living_sqrt</th>\n",
              "      <th>sqft_lot_square</th>\n",
              "      <th>sqft_lot_sqrt</th>\n",
              "      <th>floors_square</th>\n",
              "      <th>floors_sqrt</th>\n",
              "      <th>waterfront_square</th>\n",
              "      <th>waterfront_sqrt</th>\n",
              "      <th>view_square</th>\n",
              "      <th>view_sqrt</th>\n",
              "      <th>condition_square</th>\n",
              "      <th>condition_sqrt</th>\n",
              "      <th>grade_square</th>\n",
              "      <th>grade_sqrt</th>\n",
              "      <th>sqft_above_square</th>\n",
              "      <th>sqft_above_sqrt</th>\n",
              "      <th>sqft_basement_square</th>\n",
              "      <th>sqft_basement_sqrt</th>\n",
              "      <th>yr_built_square</th>\n",
              "      <th>yr_built_sqrt</th>\n",
              "      <th>yr_renovated_square</th>\n",
              "      <th>yr_renovated_sqrt</th>\n",
              "    </tr>\n",
              "  </thead>\n",
              "  <tbody>\n",
              "    <tr>\n",
              "      <th>17384</th>\n",
              "      <td>1453602313</td>\n",
              "      <td>20141029T000000</td>\n",
              "      <td>297000</td>\n",
              "      <td>2</td>\n",
              "      <td>1.50</td>\n",
              "      <td>1430</td>\n",
              "      <td>1650</td>\n",
              "      <td>3.0</td>\n",
              "      <td>0</td>\n",
              "      <td>0</td>\n",
              "      <td>3</td>\n",
              "      <td>7</td>\n",
              "      <td>1430</td>\n",
              "      <td>0</td>\n",
              "      <td>1999</td>\n",
              "      <td>0</td>\n",
              "      <td>98125</td>\n",
              "      <td>47.7222</td>\n",
              "      <td>-122.290</td>\n",
              "      <td>1430</td>\n",
              "      <td>1650</td>\n",
              "      <td>4</td>\n",
              "      <td>1.414214</td>\n",
              "      <td>2.2500</td>\n",
              "      <td>1.224745</td>\n",
              "      <td>2044900</td>\n",
              "      <td>37.815341</td>\n",
              "      <td>2722500</td>\n",
              "      <td>40.620192</td>\n",
              "      <td>9.0</td>\n",
              "      <td>1.732051</td>\n",
              "      <td>0</td>\n",
              "      <td>0.0</td>\n",
              "      <td>0</td>\n",
              "      <td>0.000000</td>\n",
              "      <td>9</td>\n",
              "      <td>1.732051</td>\n",
              "      <td>49</td>\n",
              "      <td>2.645751</td>\n",
              "      <td>2044900</td>\n",
              "      <td>37.815341</td>\n",
              "      <td>0</td>\n",
              "      <td>0.000000</td>\n",
              "      <td>3996001</td>\n",
              "      <td>44.710178</td>\n",
              "      <td>0</td>\n",
              "      <td>0.0</td>\n",
              "    </tr>\n",
              "    <tr>\n",
              "      <th>722</th>\n",
              "      <td>2225059214</td>\n",
              "      <td>20140808T000000</td>\n",
              "      <td>1578000</td>\n",
              "      <td>4</td>\n",
              "      <td>3.25</td>\n",
              "      <td>4670</td>\n",
              "      <td>51836</td>\n",
              "      <td>2.0</td>\n",
              "      <td>0</td>\n",
              "      <td>0</td>\n",
              "      <td>4</td>\n",
              "      <td>12</td>\n",
              "      <td>4670</td>\n",
              "      <td>0</td>\n",
              "      <td>1988</td>\n",
              "      <td>0</td>\n",
              "      <td>98005</td>\n",
              "      <td>47.6350</td>\n",
              "      <td>-122.164</td>\n",
              "      <td>4230</td>\n",
              "      <td>41075</td>\n",
              "      <td>16</td>\n",
              "      <td>2.000000</td>\n",
              "      <td>10.5625</td>\n",
              "      <td>1.802776</td>\n",
              "      <td>21808900</td>\n",
              "      <td>68.337398</td>\n",
              "      <td>2686970896</td>\n",
              "      <td>227.675207</td>\n",
              "      <td>4.0</td>\n",
              "      <td>1.414214</td>\n",
              "      <td>0</td>\n",
              "      <td>0.0</td>\n",
              "      <td>0</td>\n",
              "      <td>0.000000</td>\n",
              "      <td>16</td>\n",
              "      <td>2.000000</td>\n",
              "      <td>144</td>\n",
              "      <td>3.464102</td>\n",
              "      <td>21808900</td>\n",
              "      <td>68.337398</td>\n",
              "      <td>0</td>\n",
              "      <td>0.000000</td>\n",
              "      <td>3952144</td>\n",
              "      <td>44.586994</td>\n",
              "      <td>0</td>\n",
              "      <td>0.0</td>\n",
              "    </tr>\n",
              "    <tr>\n",
              "      <th>2680</th>\n",
              "      <td>2768000270</td>\n",
              "      <td>20140625T000000</td>\n",
              "      <td>562100</td>\n",
              "      <td>2</td>\n",
              "      <td>0.75</td>\n",
              "      <td>1440</td>\n",
              "      <td>3700</td>\n",
              "      <td>1.0</td>\n",
              "      <td>0</td>\n",
              "      <td>0</td>\n",
              "      <td>3</td>\n",
              "      <td>7</td>\n",
              "      <td>1200</td>\n",
              "      <td>240</td>\n",
              "      <td>1914</td>\n",
              "      <td>0</td>\n",
              "      <td>98107</td>\n",
              "      <td>47.6707</td>\n",
              "      <td>-122.364</td>\n",
              "      <td>1440</td>\n",
              "      <td>4300</td>\n",
              "      <td>4</td>\n",
              "      <td>1.414214</td>\n",
              "      <td>0.5625</td>\n",
              "      <td>0.866025</td>\n",
              "      <td>2073600</td>\n",
              "      <td>37.947332</td>\n",
              "      <td>13690000</td>\n",
              "      <td>60.827625</td>\n",
              "      <td>1.0</td>\n",
              "      <td>1.000000</td>\n",
              "      <td>0</td>\n",
              "      <td>0.0</td>\n",
              "      <td>0</td>\n",
              "      <td>0.000000</td>\n",
              "      <td>9</td>\n",
              "      <td>1.732051</td>\n",
              "      <td>49</td>\n",
              "      <td>2.645751</td>\n",
              "      <td>1440000</td>\n",
              "      <td>34.641016</td>\n",
              "      <td>57600</td>\n",
              "      <td>15.491933</td>\n",
              "      <td>3663396</td>\n",
              "      <td>43.749286</td>\n",
              "      <td>0</td>\n",
              "      <td>0.0</td>\n",
              "    </tr>\n",
              "    <tr>\n",
              "      <th>18754</th>\n",
              "      <td>6819100040</td>\n",
              "      <td>20140624T000000</td>\n",
              "      <td>631500</td>\n",
              "      <td>2</td>\n",
              "      <td>1.00</td>\n",
              "      <td>1130</td>\n",
              "      <td>2640</td>\n",
              "      <td>1.0</td>\n",
              "      <td>0</td>\n",
              "      <td>0</td>\n",
              "      <td>4</td>\n",
              "      <td>8</td>\n",
              "      <td>1130</td>\n",
              "      <td>0</td>\n",
              "      <td>1927</td>\n",
              "      <td>0</td>\n",
              "      <td>98109</td>\n",
              "      <td>47.6438</td>\n",
              "      <td>-122.357</td>\n",
              "      <td>1680</td>\n",
              "      <td>3200</td>\n",
              "      <td>4</td>\n",
              "      <td>1.414214</td>\n",
              "      <td>1.0000</td>\n",
              "      <td>1.000000</td>\n",
              "      <td>1276900</td>\n",
              "      <td>33.615473</td>\n",
              "      <td>6969600</td>\n",
              "      <td>51.380930</td>\n",
              "      <td>1.0</td>\n",
              "      <td>1.000000</td>\n",
              "      <td>0</td>\n",
              "      <td>0.0</td>\n",
              "      <td>0</td>\n",
              "      <td>0.000000</td>\n",
              "      <td>16</td>\n",
              "      <td>2.000000</td>\n",
              "      <td>64</td>\n",
              "      <td>2.828427</td>\n",
              "      <td>1276900</td>\n",
              "      <td>33.615473</td>\n",
              "      <td>0</td>\n",
              "      <td>0.000000</td>\n",
              "      <td>3713329</td>\n",
              "      <td>43.897608</td>\n",
              "      <td>0</td>\n",
              "      <td>0.0</td>\n",
              "    </tr>\n",
              "    <tr>\n",
              "      <th>14554</th>\n",
              "      <td>4027700666</td>\n",
              "      <td>20150426T000000</td>\n",
              "      <td>780000</td>\n",
              "      <td>4</td>\n",
              "      <td>2.50</td>\n",
              "      <td>3180</td>\n",
              "      <td>9603</td>\n",
              "      <td>2.0</td>\n",
              "      <td>0</td>\n",
              "      <td>2</td>\n",
              "      <td>3</td>\n",
              "      <td>9</td>\n",
              "      <td>3180</td>\n",
              "      <td>0</td>\n",
              "      <td>2002</td>\n",
              "      <td>0</td>\n",
              "      <td>98155</td>\n",
              "      <td>47.7717</td>\n",
              "      <td>-122.277</td>\n",
              "      <td>2440</td>\n",
              "      <td>15261</td>\n",
              "      <td>16</td>\n",
              "      <td>2.000000</td>\n",
              "      <td>6.2500</td>\n",
              "      <td>1.581139</td>\n",
              "      <td>10112400</td>\n",
              "      <td>56.391489</td>\n",
              "      <td>92217609</td>\n",
              "      <td>97.994898</td>\n",
              "      <td>4.0</td>\n",
              "      <td>1.414214</td>\n",
              "      <td>0</td>\n",
              "      <td>0.0</td>\n",
              "      <td>4</td>\n",
              "      <td>1.414214</td>\n",
              "      <td>9</td>\n",
              "      <td>1.732051</td>\n",
              "      <td>81</td>\n",
              "      <td>3.000000</td>\n",
              "      <td>10112400</td>\n",
              "      <td>56.391489</td>\n",
              "      <td>0</td>\n",
              "      <td>0.000000</td>\n",
              "      <td>4008004</td>\n",
              "      <td>44.743715</td>\n",
              "      <td>0</td>\n",
              "      <td>0.0</td>\n",
              "    </tr>\n",
              "  </tbody>\n",
              "</table>\n",
              "</div>"
            ],
            "text/plain": [
              "               id             date  ...  yr_renovated_square  yr_renovated_sqrt\n",
              "17384  1453602313  20141029T000000  ...                    0                0.0\n",
              "722    2225059214  20140808T000000  ...                    0                0.0\n",
              "2680   2768000270  20140625T000000  ...                    0                0.0\n",
              "18754  6819100040  20140624T000000  ...                    0                0.0\n",
              "14554  4027700666  20150426T000000  ...                    0                0.0\n",
              "\n",
              "[5 rows x 47 columns]"
            ]
          },
          "metadata": {
            "tags": []
          },
          "execution_count": 4
        }
      ]
    },
    {
      "cell_type": "markdown",
      "metadata": {
        "id": "tLBFSBXhr2VN",
        "colab_type": "text"
      },
      "source": [
        "We first need to do a little bit more pre-processing to prepare the data for model training. Models like Ridge and LASSO assume the input features are standardized (mean 0, std. dev. 1) and the target values are centered (mean 0). If we do not do this, we might get some unpredictable results since we violate the assumption of the models!"
      ]
    },
    {
      "cell_type": "code",
      "metadata": {
        "id": "NuCyGXTLr2VO",
        "colab_type": "code",
        "outputId": "3be5f3f0-c51e-452d-cfd4-c27de008d07d",
        "colab": {
          "base_uri": "https://localhost:8080/",
          "height": 224
        }
      },
      "source": [
        "def standardize(v):\n",
        "    \"\"\"\n",
        "    Takes a single column of a DataFrame and returns a new column \n",
        "    with the data standardized (mean 0, std deviation 1)\n",
        "    \"\"\"\n",
        "    std = v.std()\n",
        "    if std == 0:\n",
        "        return np.zeros(len(v))\n",
        "    else:\n",
        "        return (v - v.mean()) / std\n",
        "\n",
        "# Standardize each of the features\n",
        "for feature in all_features:\n",
        "    sales[feature] = standardize(sales[feature])\n",
        "    \n",
        "# Make the price have mean 0 \n",
        "mean_price = sales['price'].mean() \n",
        "sales['price'] -= mean_price\n",
        "\n",
        "# Preview\n",
        "sales.head()"
      ],
      "execution_count": 0,
      "outputs": [
        {
          "output_type": "execute_result",
          "data": {
            "text/html": [
              "<div>\n",
              "<style scoped>\n",
              "    .dataframe tbody tr th:only-of-type {\n",
              "        vertical-align: middle;\n",
              "    }\n",
              "\n",
              "    .dataframe tbody tr th {\n",
              "        vertical-align: top;\n",
              "    }\n",
              "\n",
              "    .dataframe thead th {\n",
              "        text-align: right;\n",
              "    }\n",
              "</style>\n",
              "<table border=\"1\" class=\"dataframe\">\n",
              "  <thead>\n",
              "    <tr style=\"text-align: right;\">\n",
              "      <th></th>\n",
              "      <th>id</th>\n",
              "      <th>date</th>\n",
              "      <th>price</th>\n",
              "      <th>bedrooms</th>\n",
              "      <th>bathrooms</th>\n",
              "      <th>sqft_living</th>\n",
              "      <th>sqft_lot</th>\n",
              "      <th>floors</th>\n",
              "      <th>waterfront</th>\n",
              "      <th>view</th>\n",
              "      <th>condition</th>\n",
              "      <th>grade</th>\n",
              "      <th>sqft_above</th>\n",
              "      <th>sqft_basement</th>\n",
              "      <th>yr_built</th>\n",
              "      <th>yr_renovated</th>\n",
              "      <th>zipcode</th>\n",
              "      <th>lat</th>\n",
              "      <th>long</th>\n",
              "      <th>sqft_living15</th>\n",
              "      <th>sqft_lot15</th>\n",
              "      <th>bedrooms_square</th>\n",
              "      <th>bedrooms_sqrt</th>\n",
              "      <th>bathrooms_square</th>\n",
              "      <th>bathrooms_sqrt</th>\n",
              "      <th>sqft_living_square</th>\n",
              "      <th>sqft_living_sqrt</th>\n",
              "      <th>sqft_lot_square</th>\n",
              "      <th>sqft_lot_sqrt</th>\n",
              "      <th>floors_square</th>\n",
              "      <th>floors_sqrt</th>\n",
              "      <th>waterfront_square</th>\n",
              "      <th>waterfront_sqrt</th>\n",
              "      <th>view_square</th>\n",
              "      <th>view_sqrt</th>\n",
              "      <th>condition_square</th>\n",
              "      <th>condition_sqrt</th>\n",
              "      <th>grade_square</th>\n",
              "      <th>grade_sqrt</th>\n",
              "      <th>sqft_above_square</th>\n",
              "      <th>sqft_above_sqrt</th>\n",
              "      <th>sqft_basement_square</th>\n",
              "      <th>sqft_basement_sqrt</th>\n",
              "      <th>yr_built_square</th>\n",
              "      <th>yr_built_sqrt</th>\n",
              "      <th>yr_renovated_square</th>\n",
              "      <th>yr_renovated_sqrt</th>\n",
              "    </tr>\n",
              "  </thead>\n",
              "  <tbody>\n",
              "    <tr>\n",
              "      <th>17384</th>\n",
              "      <td>1453602313</td>\n",
              "      <td>20141029T000000</td>\n",
              "      <td>-2.494620e+05</td>\n",
              "      <td>-1.732713</td>\n",
              "      <td>-0.850304</td>\n",
              "      <td>-0.750014</td>\n",
              "      <td>-0.388060</td>\n",
              "      <td>2.744430</td>\n",
              "      <td>-0.118403</td>\n",
              "      <td>-0.284816</td>\n",
              "      <td>-0.643614</td>\n",
              "      <td>-0.588405</td>\n",
              "      <td>-0.497886</td>\n",
              "      <td>-0.605163</td>\n",
              "      <td>0.885294</td>\n",
              "      <td>-0.219806</td>\n",
              "      <td>98125</td>\n",
              "      <td>47.7222</td>\n",
              "      <td>-122.290</td>\n",
              "      <td>1430</td>\n",
              "      <td>1650</td>\n",
              "      <td>-1.478076</td>\n",
              "      <td>-1.833885</td>\n",
              "      <td>-0.805884</td>\n",
              "      <td>-0.818890</td>\n",
              "      <td>-0.656150</td>\n",
              "      <td>-0.759322</td>\n",
              "      <td>-0.127738</td>\n",
              "      <td>-0.910929</td>\n",
              "      <td>3.623672</td>\n",
              "      <td>2.375184</td>\n",
              "      <td>-0.118403</td>\n",
              "      <td>-0.118403</td>\n",
              "      <td>-0.250634</td>\n",
              "      <td>-0.296409</td>\n",
              "      <td>-0.626652</td>\n",
              "      <td>-0.648591</td>\n",
              "      <td>-0.596346</td>\n",
              "      <td>-0.578973</td>\n",
              "      <td>-0.499020</td>\n",
              "      <td>-0.459475</td>\n",
              "      <td>-0.462336</td>\n",
              "      <td>-0.687521</td>\n",
              "      <td>0.887345</td>\n",
              "      <td>0.884234</td>\n",
              "      <td>-0.219776</td>\n",
              "      <td>-0.219813</td>\n",
              "    </tr>\n",
              "    <tr>\n",
              "      <th>722</th>\n",
              "      <td>2225059214</td>\n",
              "      <td>20140808T000000</td>\n",
              "      <td>1.031538e+06</td>\n",
              "      <td>0.705502</td>\n",
              "      <td>1.453745</td>\n",
              "      <td>2.818818</td>\n",
              "      <td>1.124834</td>\n",
              "      <td>0.850510</td>\n",
              "      <td>-0.118403</td>\n",
              "      <td>-0.284816</td>\n",
              "      <td>0.936165</td>\n",
              "      <td>3.511448</td>\n",
              "      <td>3.203178</td>\n",
              "      <td>-0.605163</td>\n",
              "      <td>0.518198</td>\n",
              "      <td>-0.219806</td>\n",
              "      <td>98005</td>\n",
              "      <td>47.6350</td>\n",
              "      <td>-122.164</td>\n",
              "      <td>4230</td>\n",
              "      <td>41075</td>\n",
              "      <td>0.639764</td>\n",
              "      <td>0.716530</td>\n",
              "      <td>1.481355</td>\n",
              "      <td>1.370116</td>\n",
              "      <td>3.356988</td>\n",
              "      <td>2.479046</td>\n",
              "      <td>0.135311</td>\n",
              "      <td>1.918055</td>\n",
              "      <td>0.755540</td>\n",
              "      <td>0.879929</td>\n",
              "      <td>-0.118403</td>\n",
              "      <td>-0.118403</td>\n",
              "      <td>-0.250634</td>\n",
              "      <td>-0.296409</td>\n",
              "      <td>0.831037</td>\n",
              "      <td>0.982133</td>\n",
              "      <td>4.108393</td>\n",
              "      <td>3.239989</td>\n",
              "      <td>3.985305</td>\n",
              "      <td>2.771992</td>\n",
              "      <td>-0.462336</td>\n",
              "      <td>-0.687521</td>\n",
              "      <td>0.514800</td>\n",
              "      <td>0.519862</td>\n",
              "      <td>-0.219776</td>\n",
              "      <td>-0.219813</td>\n",
              "    </tr>\n",
              "    <tr>\n",
              "      <th>2680</th>\n",
              "      <td>2768000270</td>\n",
              "      <td>20140625T000000</td>\n",
              "      <td>1.563804e+04</td>\n",
              "      <td>-1.732713</td>\n",
              "      <td>-1.837753</td>\n",
              "      <td>-0.738999</td>\n",
              "      <td>-0.326261</td>\n",
              "      <td>-1.043409</td>\n",
              "      <td>-0.118403</td>\n",
              "      <td>-0.284816</td>\n",
              "      <td>-0.643614</td>\n",
              "      <td>-0.588405</td>\n",
              "      <td>-0.760615</td>\n",
              "      <td>-0.012462</td>\n",
              "      <td>-1.951355</td>\n",
              "      <td>-0.219806</td>\n",
              "      <td>98107</td>\n",
              "      <td>47.6707</td>\n",
              "      <td>-122.364</td>\n",
              "      <td>1440</td>\n",
              "      <td>4300</td>\n",
              "      <td>-1.478076</td>\n",
              "      <td>-1.833885</td>\n",
              "      <td>-1.270210</td>\n",
              "      <td>-2.177362</td>\n",
              "      <td>-0.650322</td>\n",
              "      <td>-0.745318</td>\n",
              "      <td>-0.126664</td>\n",
              "      <td>-0.605316</td>\n",
              "      <td>-0.965339</td>\n",
              "      <td>-1.068724</td>\n",
              "      <td>-0.118403</td>\n",
              "      <td>-0.118403</td>\n",
              "      <td>-0.250634</td>\n",
              "      <td>-0.296409</td>\n",
              "      <td>-0.626652</td>\n",
              "      <td>-0.648591</td>\n",
              "      <td>-0.596346</td>\n",
              "      <td>-0.578973</td>\n",
              "      <td>-0.636268</td>\n",
              "      <td>-0.795551</td>\n",
              "      <td>-0.343052</td>\n",
              "      <td>0.511572</td>\n",
              "      <td>-1.937984</td>\n",
              "      <td>-1.958030</td>\n",
              "      <td>-0.219776</td>\n",
              "      <td>-0.219813</td>\n",
              "    </tr>\n",
              "    <tr>\n",
              "      <th>18754</th>\n",
              "      <td>6819100040</td>\n",
              "      <td>20140624T000000</td>\n",
              "      <td>8.503804e+04</td>\n",
              "      <td>-1.732713</td>\n",
              "      <td>-1.508604</td>\n",
              "      <td>-1.080461</td>\n",
              "      <td>-0.358216</td>\n",
              "      <td>-1.043409</td>\n",
              "      <td>-0.118403</td>\n",
              "      <td>-0.284816</td>\n",
              "      <td>0.936165</td>\n",
              "      <td>0.231566</td>\n",
              "      <td>-0.840577</td>\n",
              "      <td>-0.605163</td>\n",
              "      <td>-1.517515</td>\n",
              "      <td>-0.219806</td>\n",
              "      <td>98109</td>\n",
              "      <td>47.6438</td>\n",
              "      <td>-122.357</td>\n",
              "      <td>1680</td>\n",
              "      <td>3200</td>\n",
              "      <td>-1.478076</td>\n",
              "      <td>-1.833885</td>\n",
              "      <td>-1.149829</td>\n",
              "      <td>-1.669999</td>\n",
              "      <td>-0.812095</td>\n",
              "      <td>-1.204925</td>\n",
              "      <td>-0.127322</td>\n",
              "      <td>-0.748186</td>\n",
              "      <td>-0.965339</td>\n",
              "      <td>-1.068724</td>\n",
              "      <td>-0.118403</td>\n",
              "      <td>-0.118403</td>\n",
              "      <td>-0.250634</td>\n",
              "      <td>-0.296409</td>\n",
              "      <td>0.831037</td>\n",
              "      <td>0.982133</td>\n",
              "      <td>0.146507</td>\n",
              "      <td>0.273513</td>\n",
              "      <td>-0.673274</td>\n",
              "      <td>-0.904128</td>\n",
              "      <td>-0.462336</td>\n",
              "      <td>-0.687521</td>\n",
              "      <td>-1.513825</td>\n",
              "      <td>-1.519301</td>\n",
              "      <td>-0.219776</td>\n",
              "      <td>-0.219813</td>\n",
              "    </tr>\n",
              "    <tr>\n",
              "      <th>14554</th>\n",
              "      <td>4027700666</td>\n",
              "      <td>20150426T000000</td>\n",
              "      <td>2.335380e+05</td>\n",
              "      <td>0.705502</td>\n",
              "      <td>0.466296</td>\n",
              "      <td>1.177596</td>\n",
              "      <td>-0.148311</td>\n",
              "      <td>0.850510</td>\n",
              "      <td>-0.118403</td>\n",
              "      <td>2.389978</td>\n",
              "      <td>-0.643614</td>\n",
              "      <td>1.051536</td>\n",
              "      <td>1.501145</td>\n",
              "      <td>-0.605163</td>\n",
              "      <td>0.985411</td>\n",
              "      <td>-0.219806</td>\n",
              "      <td>98155</td>\n",
              "      <td>47.7717</td>\n",
              "      <td>-122.277</td>\n",
              "      <td>2440</td>\n",
              "      <td>15261</td>\n",
              "      <td>0.639764</td>\n",
              "      <td>0.716530</td>\n",
              "      <td>0.294742</td>\n",
              "      <td>0.530776</td>\n",
              "      <td>0.981979</td>\n",
              "      <td>1.211594</td>\n",
              "      <td>-0.118968</td>\n",
              "      <td>-0.043205</td>\n",
              "      <td>0.755540</td>\n",
              "      <td>0.879929</td>\n",
              "      <td>-0.118403</td>\n",
              "      <td>-0.118403</td>\n",
              "      <td>1.415119</td>\n",
              "      <td>2.893094</td>\n",
              "      <td>-0.626652</td>\n",
              "      <td>-0.648591</td>\n",
              "      <td>0.988408</td>\n",
              "      <td>1.074185</td>\n",
              "      <td>1.331444</td>\n",
              "      <td>1.507241</td>\n",
              "      <td>-0.462336</td>\n",
              "      <td>-0.687521</td>\n",
              "      <td>0.989306</td>\n",
              "      <td>0.983434</td>\n",
              "      <td>-0.219776</td>\n",
              "      <td>-0.219813</td>\n",
              "    </tr>\n",
              "  </tbody>\n",
              "</table>\n",
              "</div>"
            ],
            "text/plain": [
              "               id             date  ...  yr_renovated_square  yr_renovated_sqrt\n",
              "17384  1453602313  20141029T000000  ...            -0.219776          -0.219813\n",
              "722    2225059214  20140808T000000  ...            -0.219776          -0.219813\n",
              "2680   2768000270  20140625T000000  ...            -0.219776          -0.219813\n",
              "18754  6819100040  20140624T000000  ...            -0.219776          -0.219813\n",
              "14554  4027700666  20150426T000000  ...            -0.219776          -0.219813\n",
              "\n",
              "[5 rows x 47 columns]"
            ]
          },
          "metadata": {
            "tags": []
          },
          "execution_count": 5
        }
      ]
    },
    {
      "cell_type": "markdown",
      "metadata": {
        "id": "HAM7MrWFr2VQ",
        "colab_type": "text"
      },
      "source": [
        "Next, we will split the data set into training, validation, and test sets. To do this, we will use [train_test_split](https://scikit-learn.org/stable/modules/generated/sklearn.model_selection.train_test_split.html) function to split up the dataset. For this assignment we will use 70% of the data to train, 10% for validation, and 20% to test. \n",
        "\n",
        "We have written most of the splitting for you, but we need you to figure out what the sizes should be in this case based off the numbers above. Remember, we use `random_state=6` to make sure the results are deterministic for our assignment. Don't modify any code in this section besides changing the `<NUM>`s to the correct values.\n",
        "\n",
        "*Hint: You should print out the length of the datasets to make sure you got it right!*"
      ]
    },
    {
      "cell_type": "code",
      "metadata": {
        "id": "LoN8mKWZr2VQ",
        "colab_type": "code",
        "outputId": "f67cbf6e-554c-4b60-dc50-49eb11a83127",
        "colab": {
          "base_uri": "https://localhost:8080/",
          "height": 68
        }
      },
      "source": [
        "# TODO Fill in the numbers to make datasets of the right size.\n",
        "from sklearn.model_selection import train_test_split\n",
        "\n",
        "train_and_validation, test = train_test_split(sales, test_size=0.2, random_state=6)\n",
        "train, validation = train_test_split(train_and_validation, test_size=0.125, random_state=6)\n",
        "print(len(validation))\n",
        "print(len(test))\n",
        "print(len(train))\n"
      ],
      "execution_count": 0,
      "outputs": [
        {
          "output_type": "stream",
          "text": [
            "22\n",
            "44\n",
            "150\n"
          ],
          "name": "stdout"
        }
      ]
    },
    {
      "cell_type": "markdown",
      "metadata": {
        "id": "ndeASDpAr2VS",
        "colab_type": "text"
      },
      "source": [
        "### Q1) Linear Regression\n",
        "As a baseline, we will first, train a regular `LinearRegression` model on the data using the features in `all_features` and report its **test RMSE** on Gradescope. Write the code in the cell below to calculate the answer. \n",
        "\n",
        "<div class=\"alert alert-block alert-success\">\n",
        " <code>LinearRegression</code> model. \n",
        "  <ul> RMSE\n",
        "    <li> 384956 (Round to the nearest integer)\n",
        "</ul>\n",
        "</div>"
      ]
    },
    {
      "cell_type": "code",
      "metadata": {
        "id": "RszxsCqKr2VT",
        "colab_type": "code",
        "outputId": "835e7cf2-5e06-431c-df1c-00b65fedaea5",
        "colab": {
          "base_uri": "https://localhost:8080/",
          "height": 34
        }
      },
      "source": [
        "# TODO Train a linear regression model\n",
        "from sklearn.linear_model import LinearRegression\n",
        "model1 = LinearRegression().fit(train[all_features], train['price'])\n",
        "from sklearn.metrics import mean_squared_error\n",
        "y_pred = model1.predict(test[all_features])\n",
        "y_true = test['price']\n",
        "MSE=mean_squared_error(y_true, y_pred)\n",
        "RMSE1 = (MSE)**(1/2)\n",
        "print(round(RMSE1))\n"
      ],
      "execution_count": 0,
      "outputs": [
        {
          "output_type": "stream",
          "text": [
            "384956.0\n"
          ],
          "name": "stdout"
        }
      ]
    },
    {
      "cell_type": "markdown",
      "metadata": {
        "id": "NY3eQD9Xr2VV",
        "colab_type": "text"
      },
      "source": [
        "--- \n",
        "## Ridge Regression\n",
        "At this point, you might be looking forward at the homework and seeing how long it is! We want to provide a lot of instruction so you aren't left completely in the dark on what to do, but we are also trying to avoid just giving you a bunch of starter code and just having you fill in the blanks. This section is very long because it tries to give really detailed instructions on what to compute. The next section on LASSO has almost exactly the same steps so it will be a lot easier doing that part of the assignment!\n",
        "\n",
        "In this section, we will do some **hyper-parameter tuning** to find the optimal setting of the regularization constant $\\lambda$ for Ridge Regression. Remember that $\\lambda$ is the coefficient that controls how much the model is penalized for having large weights in the optimization function.\n",
        "\n",
        "$$\\hat{w}_{ridge} = \\min_w RSS(w) + \\lambda \\left\\lVert w \\right\\rVert_2^2$$\n",
        "\n",
        "where $\\left\\lVert w \\right\\rVert_2^2 = \\sum_{j=0}^D w_j^2$ is the L2 norm of the parameters. By default, `sklearn`'s `Ridge` class does not regularize the intercept.\n",
        "\n",
        "For this part of the assignment, you will be writing code to find the optimal setting of the penalty $\\lambda$. Below, we describe what steps you will want to have in your code to compute these values:\n",
        "\n",
        "*Implementation Details*\n",
        "* Use the following choices of L2 penalty: $[10^{-5}, 10^{-4}, ..., 10^4, 10^5]$. In Python, you can create a list of these numbers using `np.logspace(-5, 5, 11)`. \n",
        "* Use the [Ridge](https://scikit-learn.org/stable/modules/generated/sklearn.linear_model.Ridge.html#sklearn.linear_model.Ridge) class from sklearn to train a Ridge Regression model on the **training** data. The **only** parameters you need to pass when constructing the Ridge model are `alpha`, which lets you specify what you want the L2 penalty to be, and `random_state=0` to avoid randomness.\n",
        "* Evaluate both the training error and the validation error for the model by reporting the RMSE of each dataset.\n",
        "* Put all of your results in a pandas `DataFrame` named `ridge_data` so you can analyze them later. The `ridge_data` should have a row for each L2 penalty you tried and should have the following columns:\n",
        "  * `l2_penalty`: The L2 penalty for that row\n",
        "  * `model`: The actual `Ridge` model object that was trained with that L2 penalty\n",
        "  * `train_rmse`: The training RMSE for that model\n",
        "  * `validation_rmse`: The validation RMSE for that model\n",
        "* To build up this `DataFrame`, we recommend first building up a list of dictionary objects and then converting that to a `DataFrame`. For example, the following code would produce the following `pandas.DataFrame`.\n",
        "```python\n",
        "data = []\n",
        "for i in range(3):\n",
        "    data.append({\n",
        "        'col_a': i,\n",
        "        'col_b': 2 * i\n",
        "    }\n",
        "data_frame = pd.DataFrame(data)\n",
        "```\n",
        "\n",
        "| col_a | col_b | \n",
        "|-------|-------|\n",
        "|   0   |   0   | \n",
        "|   1   |   2   | \n",
        "|   2   |   4   |\n",
        "\n",
        "*Hints: Here is a development strategy that you might find helpful*\n",
        "* You will need a loop to loop over the possible L2 penalties. Try writing a lot of the code without a loop first if you're stuck to help you figure out how the pieces go together. You can safely ignore building up the result `DataFrame` at first, just print all the information out to start! \n",
        "* If you are running into troubles writing your loop, try to print values out to investigate what's going wrong.\n",
        "* Remember to use RMSE for calculating the error!\n"
      ]
    },
    {
      "cell_type": "code",
      "metadata": {
        "id": "ykAApo-Qr2VW",
        "colab_type": "code",
        "outputId": "067efae2-b597-4d2f-b102-20756bbc0009",
        "colab": {
          "base_uri": "https://localhost:8080/",
          "height": 255
        }
      },
      "source": [
        "# TODO Implement code to evaluate Ridge Regression with various L2 Penalties\n",
        "l2_penalties = np.logspace(-5, 5, 11)\n",
        "data = []\n",
        "\n",
        "from sklearn.linear_model import Ridge\n",
        "from sklearn.metrics import mean_squared_error\n",
        "for i in range(len(np.logspace(-5, 5, 11))):\n",
        "  clf = Ridge(alpha = l2_penalties[i], random_state=None)\n",
        "  model1 = clf.fit(train[all_features], train['price'])\n",
        "  y_pred = model1.predict(train[all_features])\n",
        "  y_true = train['price']\n",
        "  MSE=mean_squared_error(y_true, y_pred)\n",
        "  RMSE1 = (MSE)**(1/2)\n",
        "  y_pred = clf.predict(validation[all_features])\n",
        "  y_true = validation['price']\n",
        "  MSE2=mean_squared_error(y_true, y_pred)\n",
        "  RMSE3 = (MSE2)**(1/2)\n",
        "  data.append({\n",
        "      'l2_penalty':l2_penalties[i],\n",
        "      'model':model1,\n",
        "      'train_rmse':RMSE1,\n",
        "      'validation_rmse': RMSE3\n",
        "  })\n",
        "\n",
        "ridge_data = pd.DataFrame(data)\n",
        "print(ridge_data)"
      ],
      "execution_count": 0,
      "outputs": [
        {
          "output_type": "stream",
          "text": [
            "      l2_penalty  ... validation_rmse\n",
            "0        0.00001  ...   392113.886094\n",
            "1        0.00010  ...   392713.488968\n",
            "2        0.00100  ...   392554.480302\n",
            "3        0.01000  ...   366381.072228\n",
            "4        0.10000  ...   328278.686355\n",
            "5        1.00000  ...   300414.694936\n",
            "6       10.00000  ...   280715.046802\n",
            "7      100.00000  ...   281466.220013\n",
            "8     1000.00000  ...   368360.424703\n",
            "9    10000.00000  ...   495479.423202\n",
            "10  100000.00000  ...   529405.452793\n",
            "\n",
            "[11 rows x 4 columns]\n"
          ],
          "name": "stdout"
        }
      ]
    },
    {
      "cell_type": "markdown",
      "metadata": {
        "id": "LKIpDiWDr2VY",
        "colab_type": "text"
      },
      "source": [
        "As a sanity check, the cells below make sure you have a variable named `ridge_data` with the right number of rows and columns. If nothing is printed out, you pass this sanity check! "
      ]
    },
    {
      "cell_type": "code",
      "metadata": {
        "id": "KgZNfw0Fr2Va",
        "colab_type": "code",
        "colab": {}
      },
      "source": [
        "assert type(ridge_data) == pd.DataFrame\n",
        "assert len(ridge_data) == 11\n",
        "\n",
        "for col in ['l2_penalty', 'model', 'train_rmse', 'validation_rmse']:\n",
        "    assert col in ridge_data.columns, f'Missing column {col}'"
      ],
      "execution_count": 0,
      "outputs": []
    },
    {
      "cell_type": "markdown",
      "metadata": {
        "id": "vQ6zmVbcr2Vc",
        "colab_type": "text"
      },
      "source": [
        "Next, let's investigate how the penalty affected the train and validation error by running the following plotting code"
      ]
    },
    {
      "cell_type": "code",
      "metadata": {
        "id": "K-_K4vp1r2Vc",
        "colab_type": "code",
        "outputId": "d8442adf-2225-4831-aca0-e765713a19c5",
        "colab": {
          "base_uri": "https://localhost:8080/",
          "height": 305
        }
      },
      "source": [
        "# Plot the validation RMSE as a blue line with dots\n",
        "plt.plot(ridge_data['l2_penalty'], ridge_data['validation_rmse'], \n",
        "         'b-o', label='Validation')\n",
        "# Plot the train RMSE as a red line dots\n",
        "plt.plot(ridge_data['l2_penalty'], ridge_data['train_rmse'], \n",
        "         'r-o', label='Train')\n",
        "\n",
        "# Make the x-axis log scale for readability\n",
        "plt.xscale('log')\n",
        "\n",
        "# Label the axes and make a legend\n",
        "plt.xlabel('l2_penalty')\n",
        "plt.ylabel('RMSE')\n",
        "plt.legend()"
      ],
      "execution_count": 0,
      "outputs": [
        {
          "output_type": "execute_result",
          "data": {
            "text/plain": [
              "<matplotlib.legend.Legend at 0x7f998391a6d8>"
            ]
          },
          "metadata": {
            "tags": []
          },
          "execution_count": 10
        },
        {
          "output_type": "display_data",
          "data": {
            "image/png": "[encoded data removed]",
            "text/plain": [
              "<Figure size 432x288 with 1 Axes>"
            ]
          },
          "metadata": {
            "tags": []
          }
        }
      ]
    },
    {
      "cell_type": "markdown",
      "metadata": {
        "id": "DI9TdosPr2Ve",
        "colab_type": "text"
      },
      "source": [
        "Next, we want to actually look at which model we think will perform best. First we define a helper function that will be used to inspect the model parameters."
      ]
    },
    {
      "cell_type": "code",
      "metadata": {
        "id": "PYy-jr3Cr2Vf",
        "colab_type": "code",
        "colab": {}
      },
      "source": [
        "def print_coefficients(model, features):\n",
        "    \"\"\"\n",
        "    This function takes in a model column and a features column. \n",
        "    And prints the coefficient along with its feature name.\n",
        "    \"\"\"\n",
        "    feats = list(zip(model.coef_, features))\n",
        "    print(*feats, sep = \"\\n\")"
      ],
      "execution_count": 0,
      "outputs": []
    },
    {
      "cell_type": "markdown",
      "metadata": {
        "id": "oZV209_yr2Vh",
        "colab_type": "text"
      },
      "source": [
        "In the cell below, write code that uses the `ridge_data` `DataFrame` to select which L2 penalty we would choose based on the evaluations we did in the previous section. You should print out the following values to help you answer the next questions! \n",
        "* The best L2 penalty based on the model evaluations\n",
        "* Take the best model and evaluate its error on the **test** dataset. Report the number as an RMSE.\n",
        "* Call the `print_coefficients` function passing in the model itself and the features used so you can look at all of its coefficient values.\n",
        "\n",
        "To do this in `pandas`, you'll need to use the `idxmin()` function to find the index of the smallest value in a column and the `loc` property to access that index. As an example, suppose we had a `DataFrame` named `df`:\n",
        "\n",
        "| a | b | c |\n",
        "|---|---|---|\n",
        "| 1 | 2 | 3 |\n",
        "| 2 | 1 | 3 |\n",
        "| 3 | 2 | 1 |\n",
        "\n",
        "If we wrote the code \n",
        "```python\n",
        "index = df['b'].idxmin()\n",
        "row = df.loc[index]\n",
        "```\n",
        "\n",
        "It would first find the index of the smallest value in the `b` column and then uses the `.loc` property of the `DataFrame` to access that particular row. It will return a `Series` object (basically a Python dictionary) which means you can use syntax like `row['a']` to access a particular column of that row."
      ]
    },
    {
      "cell_type": "code",
      "metadata": {
        "id": "lBebusdGr2Vh",
        "colab_type": "code",
        "outputId": "fd8cbf68-52a1-41a8-9cfa-f993d2392dda",
        "colab": {
          "base_uri": "https://localhost:8080/",
          "height": 232
        }
      },
      "source": [
        "# TODO Print information about best L2 model\n",
        "index = ridge_data['validation_rmse'].idxmin()\n",
        "row = ridge_data.loc[index]\n",
        "print(row['model'])\n",
        "\n",
        "#print_coefficients(row['model'], all_features)"
      ],
      "execution_count": 1,
      "outputs": [
        {
          "output_type": "error",
          "ename": "NameError",
          "evalue": "ignored",
          "traceback": [
            "\u001b[0;31m---------------------------------------------------------------------------\u001b[0m",
            "\u001b[0;31mNameError\u001b[0m                                 Traceback (most recent call last)",
            "\u001b[0;32m<ipython-input-1-fc6b57e8d737>\u001b[0m in \u001b[0;36m<module>\u001b[0;34m()\u001b[0m\n\u001b[0;32m----> 1\u001b[0;31m \u001b[0mindex\u001b[0m \u001b[0;34m=\u001b[0m \u001b[0mridge_data\u001b[0m\u001b[0;34m[\u001b[0m\u001b[0;34m'validation_rmse'\u001b[0m\u001b[0;34m]\u001b[0m\u001b[0;34m.\u001b[0m\u001b[0midxmin\u001b[0m\u001b[0;34m(\u001b[0m\u001b[0;34m)\u001b[0m\u001b[0;34m\u001b[0m\u001b[0;34m\u001b[0m\u001b[0m\n\u001b[0m\u001b[1;32m      2\u001b[0m \u001b[0mrow\u001b[0m \u001b[0;34m=\u001b[0m \u001b[0mridge_data\u001b[0m\u001b[0;34m.\u001b[0m\u001b[0mloc\u001b[0m\u001b[0;34m[\u001b[0m\u001b[0mindex\u001b[0m\u001b[0;34m]\u001b[0m\u001b[0;34m\u001b[0m\u001b[0;34m\u001b[0m\u001b[0m\n\u001b[1;32m      3\u001b[0m \u001b[0mprint\u001b[0m\u001b[0;34m(\u001b[0m\u001b[0mrow\u001b[0m\u001b[0;34m[\u001b[0m\u001b[0;34m'model'\u001b[0m\u001b[0;34m]\u001b[0m\u001b[0;34m)\u001b[0m\u001b[0;34m\u001b[0m\u001b[0;34m\u001b[0m\u001b[0m\n\u001b[1;32m      4\u001b[0m \u001b[0;34m\u001b[0m\u001b[0m\n\u001b[1;32m      5\u001b[0m \u001b[0;31m#print_coefficients(row['model'], all_features)\u001b[0m\u001b[0;34m\u001b[0m\u001b[0;34m\u001b[0m\u001b[0;34m\u001b[0m\u001b[0m\n",
            "\u001b[0;31mNameError\u001b[0m: name 'ridge_data' is not defined"
          ]
        }
      ]
    },
    {
      "cell_type": "markdown",
      "metadata": {
        "id": "pCvAQfalr2Vj",
        "colab_type": "text"
      },
      "source": [
        "### Q2) Based on your evaluations, which L2 penalty would you use?\n",
        "<div class=\"alert alert-block alert-success\">\n",
        "<ul>\n",
        "    <li>10<sup>1</sup></li>\n",
        "\n",
        "</ul>\n",
        "</div>"
      ]
    },
    {
      "cell_type": "markdown",
      "metadata": {
        "id": "1pU_OJdyr2Vk",
        "colab_type": "text"
      },
      "source": [
        "### Q3) For the model you chose for the Q2, what is its test RMSE?\n",
        "<div class=\"alert alert-block alert-success\">\n",
        "<code>Ridge</code> model: 350668 (round to the nearest integer.)\n",
        "</div>"
      ]
    },
    {
      "cell_type": "markdown",
      "metadata": {
        "id": "RMoo5ETRr2Vk",
        "colab_type": "text"
      },
      "source": [
        "### Q4) For the model you chose in Q2, what is the number of features that have coefficient 0?\n",
        "<div class=\"alert alert-block alert-success\">\n",
        "  <ul>\n",
        "    <li> 0\n",
        "    </ul>\n",
        "</div>"
      ]
    },
    {
      "cell_type": "code",
      "metadata": {
        "id": "EQJCZ_BY6SLK",
        "colab_type": "code",
        "outputId": "7bb3871b-cb09-4685-bd9c-d576e96bbe18",
        "colab": {
          "base_uri": "https://localhost:8080/",
          "height": 102
        }
      },
      "source": [
        "print(row['model'])\n",
        "clf = Ridge(alpha = 10, random_state=None)\n",
        "model1 = clf.fit(train[all_features], train['price'])\n",
        "print(model1)\n",
        "y_pred = model1.predict(test[all_features])\n",
        "y_true = test['price']\n",
        "MSE=mean_squared_error(y_true, y_pred)\n",
        "RMSE1 = (MSE)**(1/2)"
      ],
      "execution_count": 0,
      "outputs": [
        {
          "output_type": "stream",
          "text": [
            "Ridge(alpha=10.0, copy_X=True, fit_intercept=True, max_iter=None,\n",
            "      normalize=False, random_state=None, solver='auto', tol=0.001)\n",
            "Ridge(alpha=10, copy_X=True, fit_intercept=True, max_iter=None, normalize=False,\n",
            "      random_state=None, solver='auto', tol=0.001)\n",
            "350668.0\n"
          ],
          "name": "stdout"
        }
      ]
    },
    {
      "cell_type": "code",
      "metadata": {
        "id": "asf8efUvRYGm",
        "colab_type": "code",
        "outputId": "d9fbdaf6-d02c-4419-b200-076e4c48d7b7",
        "colab": {
          "base_uri": "https://localhost:8080/",
          "height": 34
        }
      },
      "source": [
        "\n",
        "y_pred = row['model'].predict(test[all_features])\n",
        "y_true = test['price']\n",
        "MSE=mean_squared_error(y_true, y_pred)\n",
        "RMSE1 = (MSE)**(1/2)\n",
        "print(round(RMSE1))"
      ],
      "execution_count": 0,
      "outputs": [
        {
          "output_type": "stream",
          "text": [
            "350668.0\n"
          ],
          "name": "stdout"
        }
      ]
    },
    {
      "cell_type": "markdown",
      "metadata": {
        "id": "NRCyRpvLr2Vl",
        "colab_type": "text"
      },
      "source": [
        "--- \n",
        "## LASSO Regression\n",
        "In this section you will do basically the exact same analysis you did with Ridge Regression, but using LASSO Regression instead. Remember that for LASSO we choose the parameters that minimize this quality metric instead \n",
        "\n",
        "$$\\hat{w}_{LASSO} = \\min_w RSS(w) + \\lambda \\left\\lVert w \\right\\rVert_1$$\n",
        "\n",
        "where $\\left\\lVert w \\right\\rVert_1 = \\sum_{j=0}^D \\lVert w_j \\rVert$ is the L1 norm of the parameter vector.\n",
        "\n",
        "We will use the same set of instructions for LASSO as we did for Ridge, except for the following differences. Please refer back to the Ridge Regression instructions and your code to see how these differences fit in!\n",
        "\n",
        "* Use the [Lasso](https://scikit-learn.org/stable/modules/generated/sklearn.linear_model.Lasso.html#sklearn.linear_model.Lasso) model. Like before, the only parameters you need to pass in are `alpha` for the L1 penalty and `random_state=0`.\n",
        "* The range L1 penalties should be $[10, 10^2, ..., 10^7]$. In Python, this is `np.logspace(1, 7, num=7)`.\n",
        "* The result should be stored in a `DataFrame` named `lasso_data`. All the columns should have the same name and corresponding values except the penalty column should be called `l1_penalty`.\n",
        "* It is okay if your code prints some `ConvergenceWarning` warnings, these should not impact your results!.\n",
        "\n",
        "You do not need to worry about your code being redundant for this part."
      ]
    },
    {
      "cell_type": "code",
      "metadata": {
        "id": "gVKSjlFjr2Vl",
        "colab_type": "code",
        "outputId": "85a3cbeb-9b45-4839-9cc6-25f7d82bddae",
        "colab": {
          "base_uri": "https://localhost:8080/",
          "height": 275
        }
      },
      "source": [
        "# TODO Implement code to evaluate LASSO Regression with various L1 penalties\n",
        "l2_penalties = np.logspace(1, 7, num=7)\n",
        "data = []\n",
        "\n",
        "from sklearn.linear_model import Lasso\n",
        "from sklearn.metrics import mean_squared_error\n",
        "for i in range(len(l2_penalties)):\n",
        "  clf = Lasso(alpha = l2_penalties[i], random_state=None)\n",
        "  model1 = clf.fit(train[all_features], train['price'])\n",
        "  y_pred = model1.predict(train[all_features])\n",
        "  y_true = train['price']\n",
        "  MSE=mean_squared_error(y_true, y_pred)\n",
        "  RMSE1 = (MSE)**(1/2)\n",
        "  y_pred = clf.predict(validation[all_features])\n",
        "  y_true = validation['price']\n",
        "  MSE2=mean_squared_error(y_true, y_pred)\n",
        "  RMSE3 = (MSE2)**(1/2)\n",
        "  data.append({\n",
        "      'l1_penalty':l2_penalties[i],\n",
        "      'model':model1,\n",
        "      'train_rmse':RMSE1,\n",
        "      'validation_rmse': RMSE3\n",
        "  })\n",
        "\n",
        "lasso_data = pd.DataFrame(data)\n",
        "print(lasso_data)"
      ],
      "execution_count": 0,
      "outputs": [
        {
          "output_type": "stream",
          "text": [
            "   l1_penalty  ... validation_rmse\n",
            "0        10.0  ...   335241.388585\n",
            "1       100.0  ...   322816.843560\n",
            "2      1000.0  ...   284368.235272\n",
            "3     10000.0  ...   268444.047540\n",
            "4    100000.0  ...   414751.280563\n",
            "5   1000000.0  ...   533861.713077\n",
            "6  10000000.0  ...   533861.713077\n",
            "\n",
            "[7 rows x 4 columns]\n"
          ],
          "name": "stdout"
        },
        {
          "output_type": "stream",
          "text": [
            "/usr/local/lib/python3.6/dist-packages/sklearn/linear_model/coordinate_descent.py:475: ConvergenceWarning: Objective did not converge. You might want to increase the number of iterations. Duality gap: 1649508920297.8142, tolerance: 1912867203.4052832\n",
            "  positive)\n",
            "/usr/local/lib/python3.6/dist-packages/sklearn/linear_model/coordinate_descent.py:475: ConvergenceWarning: Objective did not converge. You might want to increase the number of iterations. Duality gap: 959552311817.7407, tolerance: 1912867203.4052832\n",
            "  positive)\n"
          ],
          "name": "stderr"
        }
      ]
    },
    {
      "cell_type": "markdown",
      "metadata": {
        "id": "ukr-Jy37r2Vn",
        "colab_type": "text"
      },
      "source": [
        "Here is a sanity check like before."
      ]
    },
    {
      "cell_type": "code",
      "metadata": {
        "id": "Ty1HOrBnr2Vn",
        "colab_type": "code",
        "colab": {}
      },
      "source": [
        "assert type(lasso_data) == pd.DataFrame\n",
        "assert len(lasso_data) == 7\n",
        "\n",
        "for col in ['l1_penalty', 'model', 'train_rmse', 'validation_rmse']:\n",
        "    assert col in lasso_data.columns, f'Missing column {col}'"
      ],
      "execution_count": 0,
      "outputs": []
    },
    {
      "cell_type": "markdown",
      "metadata": {
        "id": "pNkIKi1-r2Vp",
        "colab_type": "text"
      },
      "source": [
        "Like before, let's look at how the L1 penalty affects the performance."
      ]
    },
    {
      "cell_type": "code",
      "metadata": {
        "id": "6iukeDEfr2Vq",
        "colab_type": "code",
        "outputId": "ab69e927-eaa4-4f56-bccd-e1853ca372bc",
        "colab": {
          "base_uri": "https://localhost:8080/",
          "height": 305
        }
      },
      "source": [
        "# Plot the validation RMSE as a blue line with dots\n",
        "\n",
        "plt.plot(lasso_data['l1_penalty'], lasso_data['validation_rmse'],\n",
        "         'b-o', label='Validation')\n",
        "\n",
        "# Plot the train RMSE as a red line dots\n",
        "plt.plot(lasso_data['l1_penalty'], lasso_data['train_rmse'],\n",
        "         'r-o', label='Train')\n",
        "\n",
        "# Make the x-axis log scale for readability\n",
        "plt.xscale('log')\n",
        "\n",
        "# Label the axes and make a legend\n",
        "plt.xlabel('l1_penalty')\n",
        "plt.ylabel('RMSE')\n",
        "plt.legend()"
      ],
      "execution_count": 0,
      "outputs": [
        {
          "output_type": "execute_result",
          "data": {
            "text/plain": [
              "<matplotlib.legend.Legend at 0x7f997f375160>"
            ]
          },
          "metadata": {
            "tags": []
          },
          "execution_count": 17
        },
        {
          "output_type": "display_data",
          "data": {
            "image/png": "[encoded data removed]",
            "text/plain": [
              "<Figure size 432x288 with 1 Axes>"
            ]
          },
          "metadata": {
            "tags": []
          }
        }
      ]
    },
    {
      "cell_type": "markdown",
      "metadata": {
        "id": "8NawlE0kr2Vs",
        "colab_type": "text"
      },
      "source": [
        "Like before, in the cell below, write code that uses the `lasso_data` `DataFrame` to select which L1 penalty we would choose based on the evaluations we did in the previous section. You should print out the following values to help you answer the next questions! \n",
        "* The best L1 penalty based on the model evaluations\n",
        "* Take the best model and evaluate it on the test dataset and report its RMSE\n",
        "* Call the `print_coefficients` function passing in the model itself and the features used so you can look at all of its coefficient values. Note some of the values are `-0.0` which is the same as `0.0` for our purposes."
      ]
    },
    {
      "cell_type": "code",
      "metadata": {
        "id": "mjM-4XfLr2Vs",
        "colab_type": "code",
        "outputId": "7523b934-78d4-4d0c-dc2b-6faa9ce1c21f",
        "colab": {
          "base_uri": "https://localhost:8080/",
          "height": 765
        }
      },
      "source": [
        "# TODO Print information about best L1 model\n",
        "index = lasso_data['validation_rmse'].idxmin()\n",
        "row1 = lasso_data.loc[index]\n",
        "print(row1)\n",
        "\n",
        "print_coefficients(row1['model'], all_features) \n",
        "#coefficient with 0 means that it is not selected"
      ],
      "execution_count": 0,
      "outputs": [
        {
          "output_type": "stream",
          "text": [
            "l1_penalty                                                     10000\n",
            "model              Lasso(alpha=10000.0, copy_X=True, fit_intercep...\n",
            "train_rmse                                                    170239\n",
            "validation_rmse                                               268444\n",
            "Name: 3, dtype: object\n",
            "(-0.0, 'bedrooms')\n",
            "(-0.0, 'bedrooms_square')\n",
            "(-19129.61338317553, 'bedrooms_sqrt')\n",
            "(-0.0, 'bathrooms')\n",
            "(113626.05363381631, 'bathrooms_square')\n",
            "(-0.0, 'bathrooms_sqrt')\n",
            "(0.0, 'sqft_living')\n",
            "(0.0, 'sqft_living_square')\n",
            "(0.0, 'sqft_living_sqrt')\n",
            "(0.0, 'sqft_lot')\n",
            "(8103.923178885526, 'sqft_lot_square')\n",
            "(0.0, 'sqft_lot_sqrt')\n",
            "(-0.0, 'floors')\n",
            "(-0.0, 'floors_square')\n",
            "(-12044.473362529388, 'floors_sqrt')\n",
            "(172128.40168391602, 'waterfront')\n",
            "(6.7148219537619715e-09, 'waterfront_square')\n",
            "(1.2900714608572473e-11, 'waterfront_sqrt')\n",
            "(0.0, 'view')\n",
            "(0.0, 'view_square')\n",
            "(-0.0, 'view_sqrt')\n",
            "(0.0, 'condition')\n",
            "(0.0, 'condition_square')\n",
            "(0.0, 'condition_sqrt')\n",
            "(0.0, 'grade')\n",
            "(155737.85002833238, 'grade_square')\n",
            "(0.0, 'grade_sqrt')\n",
            "(0.0, 'sqft_above')\n",
            "(73015.3860730519, 'sqft_above_square')\n",
            "(0.0, 'sqft_above_sqrt')\n",
            "(0.0, 'sqft_basement')\n",
            "(-0.0, 'sqft_basement_square')\n",
            "(0.0, 'sqft_basement_sqrt')\n",
            "(-82585.79757661665, 'yr_built')\n",
            "(-0.0, 'yr_built_square')\n",
            "(-742.3409108264699, 'yr_built_sqrt')\n",
            "(0.0, 'yr_renovated')\n",
            "(0.0, 'yr_renovated_square')\n",
            "(0.0, 'yr_renovated_sqrt')\n"
          ],
          "name": "stdout"
        }
      ]
    },
    {
      "cell_type": "markdown",
      "metadata": {
        "id": "jYk4EZ3cr2Vv",
        "colab_type": "text"
      },
      "source": [
        "### Q5) Based on your evaluations, which L1 penalty would you use?\n",
        "<div class=\"alert alert-block alert-success\">\n",
        "<b>Gradescope:</b> Enter one of these options on Gradescope.\n",
        "<ul>\n",
        "    <li>10<sup>4</sup></li>\n",
        "\n",
        "</ul>\n",
        "</div>"
      ]
    },
    {
      "cell_type": "markdown",
      "metadata": {
        "id": "d5bQ-gm6r2Vw",
        "colab_type": "text"
      },
      "source": [
        "### Q6) For the model you chose for Q5, what is its test RMSE?\n",
        "<div class=\"alert alert-block alert-success\">\n",
        "<b>Gradescope:</b> Type in the test error for the best <code>Lasso</code> model. You should round the RMSE to the nearest integer. \n",
        "</div>"
      ]
    },
    {
      "cell_type": "code",
      "metadata": {
        "id": "_1-oGebEw5sh",
        "colab_type": "code",
        "outputId": "799ed991-90d8-422f-c00f-7e4d8a19c8d8",
        "colab": {
          "base_uri": "https://localhost:8080/",
          "height": 986
        }
      },
      "source": [
        "\n",
        "y_pred = row1['model'].predict(test[all_features])\n",
        "y_true = test['price']\n",
        "MSE=mean_squared_error(y_true, y_pred)\n",
        "RMSE1 = (MSE)**(1/2)\n",
        "print(round(RMSE1))\n",
        "#print(y_pred)\n",
        "#print(y_true)"
      ],
      "execution_count": 0,
      "outputs": [
        {
          "output_type": "stream",
          "text": [
            "341484.0\n",
            "[-179998.98486932  -45941.69253998 -157737.45863845  -49805.92062126\n",
            " -244997.5103743  -110226.44023621 -158738.34985459  162474.03375149\n",
            "    4886.2258341  -214040.01701888  682829.45108787  -27025.45496424\n",
            " 1734154.7922995   118192.27448448   -8582.83409131 -207610.54867926\n",
            "  -25930.04650478  112249.68475117  390766.77094486 -127228.76769824\n",
            " -103536.09526216 -231960.30028643  106162.84956864 -221854.36755971\n",
            "  -82548.38058557  160485.71503325  155390.30493951  -23960.59906492\n",
            "  357911.97140395 -199556.09167964  -10034.06612564 -166213.53257467\n",
            "   38726.44425524  156220.33300691  346622.95900624 -145026.1399485\n",
            " -255376.45538633 -168588.66351065  492458.63316535  975892.79288095\n",
            "  -86629.39659828  714995.76427652 -211172.4770246   339048.93197145]\n",
            "15209   -3.146196e+04\n",
            "8439    -1.689620e+05\n",
            "7229    -1.214620e+05\n",
            "20670   -4.446196e+04\n",
            "15463   -3.114620e+05\n",
            "12080   -1.364620e+05\n",
            "3880    -1.894620e+05\n",
            "8999     6.038042e+03\n",
            "6631    -2.064620e+05\n",
            "20282   -3.304620e+05\n",
            "6930     4.385380e+05\n",
            "13768   -1.744620e+05\n",
            "8163     9.055380e+05\n",
            "5603    -1.764620e+05\n",
            "3539     7.503804e+04\n",
            "20961   -1.567620e+05\n",
            "69       7.785380e+05\n",
            "12978    2.410380e+05\n",
            "11953    3.935380e+05\n",
            "19561   -2.254620e+05\n",
            "7378    -2.234620e+05\n",
            "21456   -9.646196e+04\n",
            "6078    -1.075620e+05\n",
            "6502    -2.372500e+05\n",
            "16875   -1.214620e+05\n",
            "14554    2.335380e+05\n",
            "7455     7.653804e+04\n",
            "2942    -2.710260e+05\n",
            "12924    2.355380e+05\n",
            "4706    -2.134620e+05\n",
            "4658     5.853804e+04\n",
            "16896   -2.264620e+05\n",
            "13890    6.103804e+04\n",
            "11582   -1.384620e+05\n",
            "6602     4.885380e+05\n",
            "641     -2.414620e+05\n",
            "14684   -2.515120e+05\n",
            "2239    -3.414620e+05\n",
            "9789     3.535380e+05\n",
            "20295    2.657538e+06\n",
            "3578    -1.414620e+05\n",
            "5829     1.248538e+06\n",
            "10631   -2.144620e+05\n",
            "17205    2.500380e+05\n",
            "Name: price, dtype: float64\n"
          ],
          "name": "stdout"
        }
      ]
    },
    {
      "cell_type": "markdown",
      "metadata": {
        "id": "L_6GR7cnr2Vx",
        "colab_type": "text"
      },
      "source": [
        "### Q7) Features with no coefficient of 0 will be selected for Lasso model\n",
        "<div class=\"alert alert-block alert-success\" style=\"overflow: auto\">\n"
      ]
    },
    {
      "cell_type": "markdown",
      "metadata": {
        "id": "SPXxkiQRr2Vx",
        "colab_type": "text"
      },
      "source": [
        "### Q8) Based on our experiments, which model would we expect to perform best in the future?\n",
        "<div class=\"alert alert-block alert-success\">\n",
        "\n",
        "<ul>\n",
        "    <li>Lasso</li>\n",
        "\n",
        "</ul>\n",
        "</div>\n"
      ]
    }
  ]
}