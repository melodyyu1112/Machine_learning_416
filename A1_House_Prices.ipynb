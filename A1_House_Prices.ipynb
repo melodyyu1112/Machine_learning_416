{
  "nbformat": 4,
  "nbformat_minor": 0,
  "metadata": {
    "colab": {
      "name": "A1-House-Prices.ipynb",
      "version": "0.3.2",
      "provenance": [],
      "collapsed_sections": [],
      "include_colab_link": true
    },
    "language_info": {
      "codemirror_mode": {
        "name": "ipython",
        "version": 3
      },
      "file_extension": ".py",
      "mimetype": "text/x-python",
      "name": "python",
      "nbconvert_exporter": "python",
      "pygments_lexer": "ipython3",
      "version": "3.7.1"
    },
    "kernelspec": {
      "display_name": "Python 3",
      "language": "python",
      "name": "python3"
    }
  },
  "cells": [
    {
      "cell_type": "markdown",
      "metadata": {
        "id": "view-in-github",
        "colab_type": "text"
      },
      "source": [
        "<a href=\"https://colab.research.google.com/github/melodyyu1112/Machine_learning_416/blob/master/A1_House_Prices.ipynb\" target=\"_parent\"><img src=\"https://colab.research.google.com/assets/colab-badge.svg\" alt=\"Open In Colab\"/></a>"
      ]
    },
    {
      "cell_type": "markdown",
      "metadata": {
        "id": "6-bEK5jIjzHe",
        "colab_type": "text"
      },
      "source": [
        "# Assignment 1 House Prices\n",
        "\n",
        "### Due: Tuesday, July 2nd, 11:59 pm on Gradescope.\n",
        "\n",
        "In this assignment we'll practice working with `pandas` `DataFrames` and train a linear regression model to predict house prices.\n",
        "\n",
        "\n",
        "\n",
        "> Copyright ©2019 Emily Fox and Hunter Schafer.  All rights reserved.  Permission is hereby granted to students registered for University of Washington CSE/STAT 416 for use solely during Summer Quarter 2019 for purposes of the course.  No other use, copying, distribution, or modification is permitted without prior written consent. Copyrights for third-party components of this work must be honored.  Instructors interested in reusing these course materials should contact the author."
      ]
    },
    {
      "cell_type": "code",
      "metadata": {
        "id": "HgA09QyRj3_l",
        "colab_type": "code",
        "colab": {}
      },
      "source": [
        "# This cell is necessary only if you are running on Google Colab\n",
        "\n",
        "import requests\n",
        "\n",
        "def save_file(url, file_name):\n",
        "  r = requests.get(url)\n",
        "  with open(file_name, 'wb') as f:\n",
        "    f.write(r.content)\n",
        "\n",
        "save_file('https://homes.cs.washington.edu/~hschafer/cse416/a1/home_data.csv',\n",
        "          'home_data.csv')"
      ],
      "execution_count": 0,
      "outputs": []
    },
    {
      "cell_type": "code",
      "metadata": {
        "id": "r_YCORZUjzHf",
        "colab_type": "code",
        "colab": {}
      },
      "source": [
        "# Conventionally people rename the pandas import to pd for brevity\n",
        "import pandas as pd"
      ],
      "execution_count": 0,
      "outputs": []
    },
    {
      "cell_type": "code",
      "metadata": {
        "id": "IEMVxMlUjzHk",
        "colab_type": "code",
        "outputId": "8529254d-51aa-486c-f67f-e4f082bd2166",
        "colab": {
          "base_uri": "https://localhost:8080/",
          "height": 224
        }
      },
      "source": [
        "sales = pd.read_csv('home_data.csv') \n",
        "sales.head()"
      ],
      "execution_count": 0,
      "outputs": [
        {
          "output_type": "execute_result",
          "data": {
            "text/html": [
              "<div>\n",
              "<style scoped>\n",
              "    .dataframe tbody tr th:only-of-type {\n",
              "        vertical-align: middle;\n",
              "    }\n",
              "\n",
              "    .dataframe tbody tr th {\n",
              "        vertical-align: top;\n",
              "    }\n",
              "\n",
              "    .dataframe thead th {\n",
              "        text-align: right;\n",
              "    }\n",
              "</style>\n",
              "<table border=\"1\" class=\"dataframe\">\n",
              "  <thead>\n",
              "    <tr style=\"text-align: right;\">\n",
              "      <th></th>\n",
              "      <th>id</th>\n",
              "      <th>date</th>\n",
              "      <th>price</th>\n",
              "      <th>bedrooms</th>\n",
              "      <th>bathrooms</th>\n",
              "      <th>sqft_living</th>\n",
              "      <th>sqft_lot</th>\n",
              "      <th>floors</th>\n",
              "      <th>waterfront</th>\n",
              "      <th>view</th>\n",
              "      <th>condition</th>\n",
              "      <th>grade</th>\n",
              "      <th>sqft_above</th>\n",
              "      <th>sqft_basement</th>\n",
              "      <th>yr_built</th>\n",
              "      <th>yr_renovated</th>\n",
              "      <th>zipcode</th>\n",
              "      <th>lat</th>\n",
              "      <th>long</th>\n",
              "      <th>sqft_living15</th>\n",
              "      <th>sqft_lot15</th>\n",
              "    </tr>\n",
              "  </thead>\n",
              "  <tbody>\n",
              "    <tr>\n",
              "      <th>0</th>\n",
              "      <td>7129300520</td>\n",
              "      <td>20141013T000000</td>\n",
              "      <td>221900</td>\n",
              "      <td>3</td>\n",
              "      <td>1.00</td>\n",
              "      <td>1180</td>\n",
              "      <td>5650</td>\n",
              "      <td>1.0</td>\n",
              "      <td>0</td>\n",
              "      <td>0</td>\n",
              "      <td>3</td>\n",
              "      <td>7</td>\n",
              "      <td>1180</td>\n",
              "      <td>0</td>\n",
              "      <td>1955</td>\n",
              "      <td>0</td>\n",
              "      <td>98178</td>\n",
              "      <td>47.5112</td>\n",
              "      <td>-122.257</td>\n",
              "      <td>1340</td>\n",
              "      <td>5650</td>\n",
              "    </tr>\n",
              "    <tr>\n",
              "      <th>1</th>\n",
              "      <td>6414100192</td>\n",
              "      <td>20141209T000000</td>\n",
              "      <td>538000</td>\n",
              "      <td>3</td>\n",
              "      <td>2.25</td>\n",
              "      <td>2570</td>\n",
              "      <td>7242</td>\n",
              "      <td>2.0</td>\n",
              "      <td>0</td>\n",
              "      <td>0</td>\n",
              "      <td>3</td>\n",
              "      <td>7</td>\n",
              "      <td>2170</td>\n",
              "      <td>400</td>\n",
              "      <td>1951</td>\n",
              "      <td>1991</td>\n",
              "      <td>98125</td>\n",
              "      <td>47.7210</td>\n",
              "      <td>-122.319</td>\n",
              "      <td>1690</td>\n",
              "      <td>7639</td>\n",
              "    </tr>\n",
              "    <tr>\n",
              "      <th>2</th>\n",
              "      <td>5631500400</td>\n",
              "      <td>20150225T000000</td>\n",
              "      <td>180000</td>\n",
              "      <td>2</td>\n",
              "      <td>1.00</td>\n",
              "      <td>770</td>\n",
              "      <td>10000</td>\n",
              "      <td>1.0</td>\n",
              "      <td>0</td>\n",
              "      <td>0</td>\n",
              "      <td>3</td>\n",
              "      <td>6</td>\n",
              "      <td>770</td>\n",
              "      <td>0</td>\n",
              "      <td>1933</td>\n",
              "      <td>0</td>\n",
              "      <td>98028</td>\n",
              "      <td>47.7379</td>\n",
              "      <td>-122.233</td>\n",
              "      <td>2720</td>\n",
              "      <td>8062</td>\n",
              "    </tr>\n",
              "    <tr>\n",
              "      <th>3</th>\n",
              "      <td>2487200875</td>\n",
              "      <td>20141209T000000</td>\n",
              "      <td>604000</td>\n",
              "      <td>4</td>\n",
              "      <td>3.00</td>\n",
              "      <td>1960</td>\n",
              "      <td>5000</td>\n",
              "      <td>1.0</td>\n",
              "      <td>0</td>\n",
              "      <td>0</td>\n",
              "      <td>5</td>\n",
              "      <td>7</td>\n",
              "      <td>1050</td>\n",
              "      <td>910</td>\n",
              "      <td>1965</td>\n",
              "      <td>0</td>\n",
              "      <td>98136</td>\n",
              "      <td>47.5208</td>\n",
              "      <td>-122.393</td>\n",
              "      <td>1360</td>\n",
              "      <td>5000</td>\n",
              "    </tr>\n",
              "    <tr>\n",
              "      <th>4</th>\n",
              "      <td>1954400510</td>\n",
              "      <td>20150218T000000</td>\n",
              "      <td>510000</td>\n",
              "      <td>3</td>\n",
              "      <td>2.00</td>\n",
              "      <td>1680</td>\n",
              "      <td>8080</td>\n",
              "      <td>1.0</td>\n",
              "      <td>0</td>\n",
              "      <td>0</td>\n",
              "      <td>3</td>\n",
              "      <td>8</td>\n",
              "      <td>1680</td>\n",
              "      <td>0</td>\n",
              "      <td>1987</td>\n",
              "      <td>0</td>\n",
              "      <td>98074</td>\n",
              "      <td>47.6168</td>\n",
              "      <td>-122.045</td>\n",
              "      <td>1800</td>\n",
              "      <td>7503</td>\n",
              "    </tr>\n",
              "  </tbody>\n",
              "</table>\n",
              "</div>"
            ],
            "text/plain": [
              "           id             date   price  ...     long  sqft_living15  sqft_lot15\n",
              "0  7129300520  20141013T000000  221900  ... -122.257           1340        5650\n",
              "1  6414100192  20141209T000000  538000  ... -122.319           1690        7639\n",
              "2  5631500400  20150225T000000  180000  ... -122.233           2720        8062\n",
              "3  2487200875  20141209T000000  604000  ... -122.393           1360        5000\n",
              "4  1954400510  20150218T000000  510000  ... -122.045           1800        7503\n",
              "\n",
              "[5 rows x 21 columns]"
            ]
          },
          "metadata": {
            "tags": []
          },
          "execution_count": 28
        }
      ]
    },
    {
      "cell_type": "markdown",
      "metadata": {
        "id": "jpAuxYFFjzHn",
        "colab_type": "text"
      },
      "source": [
        "---\n",
        "### Q1) Exploring the data.\n",
        "This question asks you to explore the dataset we will be using. Answer these three questions\n",
        "\n",
        "* How many houses do we have in our data set? This should correspond to the number of rows in the dataset.\n",
        "* Which column are we trying to predict given the other features (i.e. what's our output `y`)? \n",
        "* How many inputs do we have in total in the data set (i.e. what is the size of our input `x`)?\n",
        "\n",
        "You do not need to write code to answer the second bullet, but the others should be answered in the cells below. \n",
        "\n",
        "*Hint:* You can use `len()` to get the length of anything in python. Note that when you use it on a DataFrame, it will give you the number of rows, not columns.\n",
        "\n",
        "<div class=\"alert alert-block alert-success\">\n",
        "<b>Options:</b> Enter one of these options on Gradescope.\n",
        "<ul>\n",
        "    <li>21613 houses, price, 20</li>\n",
        "    <li>21613 houses, bedrooms, 21</li>\n",
        "    <li>22014 houses, price, 21</li>\n",
        "    <li>22014 houses, bedrooms, 20</li>\n",
        "    <li>21613 houses, price, 21</li>\n",
        "</ul>\n",
        "</div>\n"
      ]
    },
    {
      "cell_type": "code",
      "metadata": {
        "id": "9HtaEyxCjzHo",
        "colab_type": "code",
        "colab": {}
      },
      "source": [
        "# TODO: How many houses are there?"
      ],
      "execution_count": 0,
      "outputs": []
    },
    {
      "cell_type": "code",
      "metadata": {
        "id": "Tdveak_9QGKW",
        "colab_type": "code",
        "outputId": "41c133e4-2599-4a45-bcdf-6535c1fae109",
        "colab": {
          "base_uri": "https://localhost:8080/",
          "height": 34
        }
      },
      "source": [
        "len(sales)"
      ],
      "execution_count": 0,
      "outputs": [
        {
          "output_type": "execute_result",
          "data": {
            "text/plain": [
              "21613"
            ]
          },
          "metadata": {
            "tags": []
          },
          "execution_count": 30
        }
      ]
    },
    {
      "cell_type": "code",
      "metadata": {
        "id": "g1Jm3yuijzHt",
        "colab_type": "code",
        "colab": {}
      },
      "source": [
        "# TODO: How many inputs are there?"
      ],
      "execution_count": 0,
      "outputs": []
    },
    {
      "cell_type": "code",
      "metadata": {
        "id": "yXnBu7gjQP_Q",
        "colab_type": "code",
        "outputId": "36276e48-3a53-4fa2-b2c9-e43a0008d407",
        "colab": {
          "base_uri": "https://localhost:8080/",
          "height": 34
        }
      },
      "source": [
        "len(sales.columns)"
      ],
      "execution_count": 0,
      "outputs": [
        {
          "output_type": "execute_result",
          "data": {
            "text/plain": [
              "21"
            ]
          },
          "metadata": {
            "tags": []
          },
          "execution_count": 32
        }
      ]
    },
    {
      "cell_type": "markdown",
      "metadata": {
        "id": "x1R0ACkTjzHx",
        "colab_type": "text"
      },
      "source": [
        "---\n",
        "### Q2) What is the average price of houses with 3 bedrooms?\n",
        "**To solve this problem, you should write code that prints out the average price for every number of bedrooms**, but we only want you to report the number for 3 bedrooms in Gradescope. \n",
        "\n",
        "To do this, you will want to do the following steps\n",
        "* Find the maximum number of bedrooms in the dataset\n",
        "* Make a loop that goes from 0 to that number\n",
        "* For each number of bedrooms, compute the average price of the houses with that number of bedrooms. Print out both the number of bedrooms and the average price of houses with that number of bedrooms.\n",
        "\n",
        "It's expected there will be some number of bedrooms between 0 and the max that don't have any houses. If you have `pandas` compute the mean, it will return the value `nan` which means \"Not a Number\". You don't have to handle this case specially, printing `nan` is fine. Additionally, there may be some data entry errors from the original dataset so you might see some results that look a bit odd (this is expected and happens ALL the time with real-world datasets).\n",
        "\n",
        "<div class=\"alert alert-block alert-success\">\n",
        "<ul>\n",
        "    <li><code>nan</code></li>\n",
        "    <li>466,232</li>\n",
        "\n",
        "</ul>\n",
        "</div>"
      ]
    },
    {
      "cell_type": "code",
      "metadata": {
        "id": "XyAb1X7EmJzd",
        "colab_type": "code",
        "colab": {}
      },
      "source": [
        "max = sales['bedrooms'].max()"
      ],
      "execution_count": 0,
      "outputs": []
    },
    {
      "cell_type": "code",
      "metadata": {
        "id": "5SXDgkI3jzHy",
        "colab_type": "code",
        "colab": {}
      },
      "source": [
        "# TODO: Write code to print out all the average prices for each number of bedrooms"
      ],
      "execution_count": 0,
      "outputs": []
    },
    {
      "cell_type": "code",
      "metadata": {
        "id": "ERPywa_KnbMG",
        "colab_type": "code",
        "outputId": "42de5a73-5e78-4ca0-8591-69a2ef6d5ff3",
        "colab": {
          "base_uri": "https://localhost:8080/",
          "height": 249
        }
      },
      "source": [
        "sales[sales['bedrooms'] == 2]['price'].mean()\n",
        "print(sales[sales['bedrooms'] == 33]['price'].mean())\n",
        "  \n",
        "\n",
        "for i in range(max):\n",
        "  print(i)\n",
        "  print(sales[sales['bedrooms'] == i]['price'].mean())\n",
        "\n",
        "  \n"
      ],
      "execution_count": 0,
      "outputs": [
        {
          "output_type": "stream",
          "text": [
            "640000.0\n"
          ],
          "name": "stdout"
        },
        {
          "output_type": "error",
          "ename": "TypeError",
          "evalue": "ignored",
          "traceback": [
            "\u001b[0;31m---------------------------------------------------------------------------\u001b[0m",
            "\u001b[0;31mTypeError\u001b[0m                                 Traceback (most recent call last)",
            "\u001b[0;32m<ipython-input-52-96cf6befdb93>\u001b[0m in \u001b[0;36m<module>\u001b[0;34m()\u001b[0m\n\u001b[1;32m      4\u001b[0m \u001b[0;34m\u001b[0m\u001b[0m\n\u001b[1;32m      5\u001b[0m \u001b[0;32mfor\u001b[0m \u001b[0mi\u001b[0m \u001b[0;32min\u001b[0m \u001b[0mrange\u001b[0m\u001b[0;34m(\u001b[0m\u001b[0mmax\u001b[0m\u001b[0;34m)\u001b[0m\u001b[0;34m:\u001b[0m\u001b[0;34m\u001b[0m\u001b[0;34m\u001b[0m\u001b[0m\n\u001b[0;32m----> 6\u001b[0;31m   \u001b[0mprint\u001b[0m\u001b[0;34m(\u001b[0m\u001b[0mi\u001b[0m \u001b[0;34m+\u001b[0m \u001b[0;34m\". \"\u001b[0m \u001b[0;34m+\u001b[0m \u001b[0msales\u001b[0m\u001b[0;34m[\u001b[0m\u001b[0msales\u001b[0m\u001b[0;34m[\u001b[0m\u001b[0;34m'bedrooms'\u001b[0m\u001b[0;34m]\u001b[0m \u001b[0;34m==\u001b[0m \u001b[0mi\u001b[0m\u001b[0;34m]\u001b[0m\u001b[0;34m[\u001b[0m\u001b[0;34m'price'\u001b[0m\u001b[0;34m]\u001b[0m\u001b[0;34m.\u001b[0m\u001b[0mmean\u001b[0m\u001b[0;34m(\u001b[0m\u001b[0;34m)\u001b[0m\u001b[0;34m)\u001b[0m\u001b[0;34m\u001b[0m\u001b[0;34m\u001b[0m\u001b[0m\n\u001b[0m\u001b[1;32m      7\u001b[0m \u001b[0;34m\u001b[0m\u001b[0m\n\u001b[1;32m      8\u001b[0m \u001b[0;34m\u001b[0m\u001b[0m\n",
            "\u001b[0;31mTypeError\u001b[0m: unsupported operand type(s) for +: 'int' and 'str'"
          ]
        }
      ]
    },
    {
      "cell_type": "code",
      "metadata": {
        "id": "AsNtQsy0qvTn",
        "colab_type": "code",
        "outputId": "fb206d08-9486-4dca-a49d-6546bbb7f726",
        "colab": {
          "base_uri": "https://localhost:8080/",
          "height": 374
        }
      },
      "source": [
        "sales[sales['bedrooms'] == 3].mean()"
      ],
      "execution_count": 0,
      "outputs": [
        {
          "output_type": "execute_result",
          "data": {
            "text/plain": [
              "id               4.535884e+09\n",
              "price            4.662321e+05\n",
              "bedrooms         3.000000e+00\n",
              "bathrooms        1.968394e+00\n",
              "sqft_living      1.805837e+03\n",
              "sqft_lot         1.441479e+04\n",
              "floors           1.449410e+00\n",
              "waterfront       6.514658e-03\n",
              "view             1.878054e-01\n",
              "condition        3.415513e+00\n",
              "grade            7.472516e+00\n",
              "sqft_above       1.584442e+03\n",
              "sqft_basement    2.213950e+02\n",
              "yr_built         1.971813e+03\n",
              "yr_renovated     7.600143e+01\n",
              "zipcode          9.807648e+04\n",
              "lat              4.755148e+01\n",
              "long            -1.222133e+02\n",
              "sqft_living15    1.835444e+03\n",
              "sqft_lot15       1.280934e+04\n",
              "dtype: float64"
            ]
          },
          "metadata": {
            "tags": []
          },
          "execution_count": 36
        }
      ]
    },
    {
      "cell_type": "markdown",
      "metadata": {
        "id": "SXKo3-0rjzH0",
        "colab_type": "text"
      },
      "source": [
        "---\n",
        "### Q3) What fraction of the properties are have `sqft_living` between 2000-4000?\n",
        "<div class=\"alert alert-block alert-success\">\n",
        "<ul>\n",
        "    <li>0.3 - 0.4</li>\n",
        "\n",
        "</ul>\n",
        "</div>\n",
        " "
      ]
    },
    {
      "cell_type": "code",
      "metadata": {
        "id": "fxH1QcOOjzH1",
        "colab_type": "code",
        "colab": {}
      },
      "source": [
        "# TODO"
      ],
      "execution_count": 0,
      "outputs": []
    },
    {
      "cell_type": "code",
      "metadata": {
        "id": "EsiL6UbjsO71",
        "colab_type": "code",
        "outputId": "f98685b7-0da7-480e-97e7-316e14ba5c3f",
        "colab": {
          "base_uri": "https://localhost:8080/",
          "height": 34
        }
      },
      "source": [
        "len(sales[(sales['sqft_living'] >= 2000) & (sales['sqft_living'] <= 4000)])/len(sales)"
      ],
      "execution_count": 0,
      "outputs": [
        {
          "output_type": "execute_result",
          "data": {
            "text/plain": [
              "0.4266413732475825"
            ]
          },
          "metadata": {
            "tags": []
          },
          "execution_count": 38
        }
      ]
    },
    {
      "cell_type": "markdown",
      "metadata": {
        "id": "Pe5fDbnvjzH4",
        "colab_type": "text"
      },
      "source": [
        "---\n",
        "## Training a Linear Regression Model.\n",
        "\n",
        "We will now train a linear regression model to make useful predictions. Work through the steps below and then answer the following questions. Even though a lot of the code is pre-written, you should understand what it is doing! You may be asked to write some of this code on future assignments.\n",
        "\n",
        "First we split the data into a training set and a test set."
      ]
    },
    {
      "cell_type": "code",
      "metadata": {
        "id": "ETJ1D6GJjzH5",
        "colab_type": "code",
        "colab": {}
      },
      "source": [
        "from sklearn.model_selection import train_test_split \n",
        "train_data, test_data = train_test_split(sales, test_size = 0.2, random_state=0)  # random_state makes everything deterministic"
      ],
      "execution_count": 0,
      "outputs": []
    },
    {
      "cell_type": "markdown",
      "metadata": {
        "id": "MTjd9kn8jzH7",
        "colab_type": "text"
      },
      "source": [
        "Lets plot some of the data to get a sense of what we are dealing with"
      ]
    },
    {
      "cell_type": "code",
      "metadata": {
        "id": "nJcdk5lsjzH8",
        "colab_type": "code",
        "outputId": "cf10965d-4de9-4bf9-e5f5-d6aa7f3717fd",
        "colab": {
          "base_uri": "https://localhost:8080/",
          "height": 300
        }
      },
      "source": [
        "%matplotlib inline\n",
        "import matplotlib.pyplot as plt\n",
        "\n",
        "# plot primarily takes \n",
        "#plt.scatter(sales['sqft_living'], sales['price'], marker='.')\n",
        "plt.scatter(train_data['sqft_living'], train_data['price'], marker='+', label='Train')\n",
        "plt.scatter(test_data['sqft_living'], test_data['price'], marker='.', label='Test')\n",
        "\n",
        "# Code to customize the axis labels\n",
        "plt.legend()\n",
        "plt.xlabel('Sqft Living')\n",
        "plt.ylabel('Price')"
      ],
      "execution_count": 0,
      "outputs": [
        {
          "output_type": "execute_result",
          "data": {
            "text/plain": [
              "Text(0, 0.5, 'Price')"
            ]
          },
          "metadata": {
            "tags": []
          },
          "execution_count": 40
        },
        {
          "output_type": "display_data",
          "data": {
            "image/png": "[encoded data removed]",
            "text/plain": [
              "<Figure size 432x288 with 1 Axes>"
            ]
          },
          "metadata": {
            "tags": []
          }
        }
      ]
    },
    {
      "cell_type": "markdown",
      "metadata": {
        "id": "GKyM0towjzH_",
        "colab_type": "text"
      },
      "source": [
        "For this problem, we will look at using two sets of features derived from the data inputs. The basic set of features only contains a few data inputs while the advanced features contain them and more."
      ]
    },
    {
      "cell_type": "code",
      "metadata": {
        "id": "tq73hFtKjzIA",
        "colab_type": "code",
        "colab": {}
      },
      "source": [
        "basic_features = ['bedrooms', 'bathrooms', 'sqft_living', 'sqft_lot', 'floors', 'zipcode']"
      ],
      "execution_count": 0,
      "outputs": []
    },
    {
      "cell_type": "code",
      "metadata": {
        "id": "oh9oCBhxjzIE",
        "colab_type": "code",
        "colab": {}
      },
      "source": [
        "advanced_features = basic_features + [\n",
        "    'condition',      # condition of the house\n",
        "    'grade',          # measure of qality of construction\n",
        "    'waterfront',     # waterfront property \n",
        "    'view',           # type of view\n",
        "    'sqft_above',     # square feet above ground\n",
        "    'sqft_basement',  # square feet in basementab\n",
        "    'yr_built',       # the year built\n",
        "    'yr_renovated',   # the year renovated\n",
        "    'lat',            # the longitude of the parcel\n",
        "    'long',           # the latitide of the parcel\n",
        "    'sqft_living15',  # average sq.ft. of 15 nearest neighbors \n",
        "    'sqft_lot15',     # average lot size of 15 nearest neighbors \n",
        "]"
      ],
      "execution_count": 0,
      "outputs": []
    },
    {
      "cell_type": "markdown",
      "metadata": {
        "id": "oRJYFB5hjzIG",
        "colab_type": "text"
      },
      "source": [
        "---\n",
        "<div class=\"alert alert-block alert-info\">\n",
        "    <b>Note:</b> You have to do something for this section for the model training, but there is no answer to submit on Gradescope!\n",
        "</div>\n",
        "\n",
        "In the following cell, you should train two linear regression models\n",
        "* The first should be saved in a variable called `basic_model` that only uses the basic features\n",
        "* The seconod should be saved in a variable called `advanced_model` that uses the advanced features\n",
        "\n",
        "Look at the [fit()](https://scikit-learn.org/stable/modules/generated/sklearn.linear_model.LinearRegression.html) function in the API documentation to figure out how to use it. You will also need to import the `LinearRegression` class.\n",
        "\n",
        "Notice that our goal is to eventually make a prediction of how the model will do in the future. You should keep this in mind when deciding which datasets to use where."
      ]
    },
    {
      "cell_type": "code",
      "metadata": {
        "id": "eXBo82iXjzIH",
        "colab_type": "code",
        "colab": {}
      },
      "source": [
        "# TODO: Write your code here to train the two models"
      ],
      "execution_count": 0,
      "outputs": []
    },
    {
      "cell_type": "code",
      "metadata": {
        "id": "GHtD7fVuvXhA",
        "colab_type": "code",
        "colab": {}
      },
      "source": [
        "from sklearn.linear_model import LinearRegression\n"
      ],
      "execution_count": 0,
      "outputs": []
    },
    {
      "cell_type": "code",
      "metadata": {
        "id": "oUUqnxlTwJ5W",
        "colab_type": "code",
        "colab": {}
      },
      "source": [
        "basic_model = LinearRegression().fit(train_data[basic_features], train_data['price'])\n",
        "advanced_model = LinearRegression().fit(train_data[advanced_features], train_data['price'])"
      ],
      "execution_count": 0,
      "outputs": []
    },
    {
      "cell_type": "markdown",
      "metadata": {
        "id": "Wn5dkHCWjzIJ",
        "colab_type": "text"
      },
      "source": [
        "Now, we will evaluate the models' predictions to see how they perform.\n",
        "\n",
        "---\n",
        "### Q4) What are your Root Mean Squared Errors (RMSE) on your training data using the basic model and then the advanced model?\n",
        "Use the models you trained in last section to predict what it thinks the values for the data points should be. You can look at the documentation from the `LinearRegression` model to see how to make predictions. \n",
        "\n",
        "The RMSE is another commonly reported metric used for regression models. The RMSE is similar to RSS but is modified slightly to scale the number down. The RMSE is defined as $$RMSE = \\sqrt{\\frac{1}{n}RSS}$$\n",
        "\n",
        "where the thing inside the square root is refered to as the Mean Square Error (MSE). You will also need to use the `mean_squared_error` function from sklearn (documentation [here](https://scikit-learn.org/stable/modules/generated/sklearn.metrics.mean_squared_error.html#sklearn.metrics.mean_squared_error)) which you'll have to import as well. \n",
        "\n",
        "**Remember, we want you to report the square root of the MSE numbers**. \n",
        "<div class=\"alert alert-block alert-success\">\n",
        "<ul>\n",
        "    <li>Basic: ~258,527, Advanced ~203,805</li>\n",
        "\n",
        "</ul>\n",
        "</div>"
      ]
    },
    {
      "cell_type": "code",
      "metadata": {
        "id": "Vrb5em3WjzIJ",
        "colab_type": "code",
        "colab": {}
      },
      "source": [
        "# Write your code here"
      ],
      "execution_count": 0,
      "outputs": []
    },
    {
      "cell_type": "code",
      "metadata": {
        "id": "a7LTnx30yKjq",
        "colab_type": "code",
        "outputId": "bab20042-c8c0-48c2-d757-b86da61aab95",
        "colab": {
          "base_uri": "https://localhost:8080/",
          "height": 51
        }
      },
      "source": [
        "from sklearn.metrics import mean_squared_error\n",
        "y_pred = basic_model.predict(train_data[basic_features])\n",
        "y_true = train_data['price']\n",
        "MSE=mean_squared_error(y_true, y_pred)\n",
        "RMSE1 = ( MSE)**(1/2)\n",
        "print(RMSE1)\n",
        "\n",
        "y_pred = advanced_model.predict(train_data[advanced_features])\n",
        "y_true = train_data['price']\n",
        "MSE=mean_squared_error(y_true, y_pred)\n",
        "RMSE2 = ( MSE)**(1/2)\n",
        "print(RMSE2)"
      ],
      "execution_count": 0,
      "outputs": [
        {
          "output_type": "stream",
          "text": [
            "258524.68484833508\n",
            "203805.41055523997\n"
          ],
          "name": "stdout"
        }
      ]
    },
    {
      "cell_type": "markdown",
      "metadata": {
        "id": "W9VtkBJNjzIL",
        "colab_type": "text"
      },
      "source": [
        "---\n",
        "### Q5) What are your RMSE errors on your test data using the basic model and then the advanced model?\n",
        "<div class=\"alert alert-block alert-success\">\n",
        "<ul>\n",
        "    <li>Basic: ~244,005, Advanced ~190,473</li>\n",
        "</ul>\n",
        "</div>"
      ]
    },
    {
      "cell_type": "code",
      "metadata": {
        "id": "RkXRM4GmjzIM",
        "colab_type": "code",
        "colab": {}
      },
      "source": [
        "# TODO: Write your code here"
      ],
      "execution_count": 0,
      "outputs": []
    },
    {
      "cell_type": "code",
      "metadata": {
        "id": "J2_OCeN62l83",
        "colab_type": "code",
        "outputId": "2917a97d-44e6-47d4-fe7a-74637abdddbc",
        "colab": {
          "base_uri": "https://localhost:8080/",
          "height": 51
        }
      },
      "source": [
        "from sklearn.metrics import mean_squared_error\n",
        "y_pred = basic_model.predict(test_data[basic_features])\n",
        "y_true = test_data['price']\n",
        "MSE=mean_squared_error(y_true, y_pred)\n",
        "RMSE1 = (MSE)**(1/2)\n",
        "print(RMSE1)\n",
        "\n",
        "y_pred = advanced_model.predict(test_data[advanced_features])\n",
        "y_true = test_data['price']\n",
        "MSE=mean_squared_error(y_true, y_pred)\n",
        "RMSE2 = (MSE)**(1/2)\n",
        "print(RMSE2)"
      ],
      "execution_count": 0,
      "outputs": [
        {
          "output_type": "stream",
          "text": [
            "244004.77443104176\n",
            "190473.37570967825\n"
          ],
          "name": "stdout"
        }
      ]
    },
    {
      "cell_type": "markdown",
      "metadata": {
        "id": "VqepF5IojzIO",
        "colab_type": "text"
      },
      "source": [
        "---\n",
        "### Q6.a) Which model would you choose?\n",
        "\n",
        "<div class=\"alert alert-block alert-success\">\n",
        "<ul>\n",
        "    <li>Model with the advanced features</li>\n",
        "</ul>\n",
        "</div>\n",
        "\n",
        "### Q6.b) Why?\n",
        "<div class=\"alert alert-block alert-success\">\n",
        "    <li>It has lower test error</li>\n",
        "   \n",
        "</ul>\n",
        "</div>\n"
      ]
    }
  ]
}